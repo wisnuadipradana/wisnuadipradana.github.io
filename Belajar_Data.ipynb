{
  "nbformat": 4,
  "nbformat_minor": 0,
  "metadata": {
    "colab": {
      "provenance": []
    },
    "kernelspec": {
      "name": "python3",
      "display_name": "Python 3"
    },
    "language_info": {
      "name": "python"
    }
  },
  "cells": [
    {
      "cell_type": "markdown",
      "source": [
        "# **Day 1**"
      ],
      "metadata": {
        "id": "c2qUP19UkZyy"
      }
    },
    {
      "cell_type": "markdown",
      "source": [
        "## Fungsi Print\n",
        "\n",
        "Fungsi untuk mencetak pesan ke layar/console."
      ],
      "metadata": {
        "id": "z2UCQz5ZA1NX"
      }
    },
    {
      "cell_type": "code",
      "source": [
        "print(\"aku bukan kucing\")"
      ],
      "metadata": {
        "colab": {
          "base_uri": "https://localhost:8080/"
        },
        "id": "euYu8-GQA_j6",
        "outputId": "0c8e5856-e670-4c48-9bbc-d50c14882fc8"
      },
      "execution_count": null,
      "outputs": [
        {
          "output_type": "stream",
          "name": "stdout",
          "text": [
            "aku bukan kucing\n"
          ]
        }
      ]
    },
    {
      "cell_type": "code",
      "source": [
        "print('aku bukan kucing')"
      ],
      "metadata": {
        "colab": {
          "base_uri": "https://localhost:8080/"
        },
        "id": "Wsn9qja0BF7H",
        "outputId": "1f270f67-8ab0-4aab-e6f1-38b40cbf8f72"
      },
      "execution_count": null,
      "outputs": [
        {
          "output_type": "stream",
          "name": "stdout",
          "text": [
            "aku bukan kucing\n"
          ]
        }
      ]
    },
    {
      "cell_type": "code",
      "source": [
        "print('aku')\n",
        "print('bukan')\n",
        "print('kucing')"
      ],
      "metadata": {
        "colab": {
          "base_uri": "https://localhost:8080/"
        },
        "id": "bVIP4adoBOu8",
        "outputId": "eedbbe27-dff2-4622-f3d5-d2e7d942dd62"
      },
      "execution_count": null,
      "outputs": [
        {
          "output_type": "stream",
          "name": "stdout",
          "text": [
            "aku\n",
            "bukan\n",
            "kucing\n"
          ]
        }
      ]
    },
    {
      "cell_type": "code",
      "source": [
        "print('Hello, World!')"
      ],
      "metadata": {
        "colab": {
          "base_uri": "https://localhost:8080/"
        },
        "id": "4-NnPIwNBZMU",
        "outputId": "8bf761db-4022-49ec-a6e4-6acbb39830f9"
      },
      "execution_count": null,
      "outputs": [
        {
          "output_type": "stream",
          "name": "stdout",
          "text": [
            "Hello, World!\n"
          ]
        }
      ]
    },
    {
      "cell_type": "code",
      "source": [
        "print('ini print yang pertama', 'ini yang kedua') "
      ],
      "metadata": {
        "colab": {
          "base_uri": "https://localhost:8080/"
        },
        "id": "W_xgkL4jCPZf",
        "outputId": "32ff6034-2a81-4172-da49-2a77495706a8"
      },
      "execution_count": null,
      "outputs": [
        {
          "output_type": "stream",
          "name": "stdout",
          "text": [
            "ini print yang pertama ini yang kedua\n"
          ]
        }
      ]
    },
    {
      "cell_type": "code",
      "source": [
        "print(\"my name is uzu\")\n",
        "print('baru belajar coding')"
      ],
      "metadata": {
        "colab": {
          "base_uri": "https://localhost:8080/"
        },
        "id": "c0fbUAwoCYg8",
        "outputId": "a2c91a3f-38ff-476e-9c76-a299e4b03086"
      },
      "execution_count": null,
      "outputs": [
        {
          "output_type": "stream",
          "name": "stdout",
          "text": [
            "my name is uzu\n",
            "baru belajar coding\n"
          ]
        }
      ]
    },
    {
      "cell_type": "markdown",
      "source": [
        "### End\n",
        "\n",
        "```end=\" \"``` digunakan untuk meletakkan argumen setelah argumen pertama."
      ],
      "metadata": {
        "id": "0OVXj4duDUyh"
      }
    },
    {
      "cell_type": "code",
      "source": [
        "print(\"my name is uzu\",  end=\" \")\n",
        "print('baru belajar coding')"
      ],
      "metadata": {
        "colab": {
          "base_uri": "https://localhost:8080/"
        },
        "id": "Rb2YT4SkCvyR",
        "outputId": "9918892a-a082-46f0-dc49-4306f7e78b1b"
      },
      "execution_count": null,
      "outputs": [
        {
          "output_type": "stream",
          "name": "stdout",
          "text": [
            "my name is uzu baru belajar coding\n"
          ]
        }
      ]
    },
    {
      "cell_type": "code",
      "source": [
        "print(\"my name is uzu\",  end=\", \")\n",
        "print('baru belajar coding')"
      ],
      "metadata": {
        "colab": {
          "base_uri": "https://localhost:8080/"
        },
        "id": "BY-bHhBlC1DD",
        "outputId": "52687501-06b6-4aa8-c52f-e5bb9618da03"
      },
      "execution_count": null,
      "outputs": [
        {
          "output_type": "stream",
          "name": "stdout",
          "text": [
            "my name is uzu, baru belajar coding\n"
          ]
        }
      ]
    },
    {
      "cell_type": "code",
      "source": [
        "print(\"my name is uzu\",  end=\"\\n\\n\")\n",
        "print('baru belajar coding')"
      ],
      "metadata": {
        "colab": {
          "base_uri": "https://localhost:8080/"
        },
        "id": "GK7pQWMlC-2I",
        "outputId": "fe700dd4-3e3d-422b-b56a-edccfa39fc65"
      },
      "execution_count": null,
      "outputs": [
        {
          "output_type": "stream",
          "name": "stdout",
          "text": [
            "my name is uzu\n",
            "\n",
            "baru belajar coding\n"
          ]
        }
      ]
    },
    {
      "cell_type": "code",
      "source": [
        "print(\"my\", \"name\", \"###\")"
      ],
      "metadata": {
        "colab": {
          "base_uri": "https://localhost:8080/"
        },
        "id": "-TD7vPHQE7Lo",
        "outputId": "612484ab-27b6-477e-817b-b4443a3af952"
      },
      "execution_count": null,
      "outputs": [
        {
          "output_type": "stream",
          "name": "stdout",
          "text": [
            "my name ###\n"
          ]
        }
      ]
    },
    {
      "cell_type": "markdown",
      "source": [
        "### Sep\n",
        "\n",
        "```sep=\" \" ``` digunakan untuk memisahkan antar argumen dengan string kosong atau karakter lain."
      ],
      "metadata": {
        "id": "t1kPaAUdF28N"
      }
    },
    {
      "cell_type": "code",
      "source": [
        "print(\"my\", \"name\", \"###\", sep=\"+-+\")"
      ],
      "metadata": {
        "colab": {
          "base_uri": "https://localhost:8080/"
        },
        "id": "LLngvpdGDdTm",
        "outputId": "bb374d47-d075-4118-89c9-7f20ab39c5a9"
      },
      "execution_count": null,
      "outputs": [
        {
          "output_type": "stream",
          "name": "stdout",
          "text": [
            "my+-+name+-+###\n"
          ]
        }
      ]
    },
    {
      "cell_type": "code",
      "source": [
        "print(\"my\", \"name\", \"is\", sep=\"_\", end=\"*\")\n",
        "print(\"belajar\", \"Python\", \"3.0\", sep=\"&\")"
      ],
      "metadata": {
        "colab": {
          "base_uri": "https://localhost:8080/"
        },
        "id": "z2c1eMpcFJvV",
        "outputId": "6ed2087e-86f0-4517-95a3-9ec2c9caedf5"
      },
      "execution_count": null,
      "outputs": [
        {
          "output_type": "stream",
          "name": "stdout",
          "text": [
            "my_name_is*belajar&Python&3.0\n"
          ]
        }
      ]
    },
    {
      "cell_type": "markdown",
      "source": [
        "## Comment\n",
        "\n",
        "Comment digunakan untuk memberikan penjelasan pada script dan tidak akan dieksekusi oleh Python. Python menggunakan tanda “#” untuk melakukan comment pada script."
      ],
      "metadata": {
        "id": "B5JiyG2BH2Sj"
      }
    },
    {
      "cell_type": "markdown",
      "source": [
        "## Tipe Data\n",
        "\n",
        "1. __Numeric Type__ : Tipe data yang digunakan untuk menyimpan data berupa angka. Terdapat dua macam tipe data numeric, yaitu int untuk menyimpan bilangan bulat (e.g.: 0, 1, 2, 404, -500, -1000) dan float untuk menyimpan bilangan riil (e.g.: 0.5, 1.01, 2.05, 4.04)\n",
        "\n",
        "2. __Text Type__ : Pada Python, tipe data string (str) digunakan untuk menyimpan data teks. Tipe data string dimulai dengan tanda kutip (baik kutip satu/ dua) dan diakhir dengan tanda kutip. Contoh: \"Teks\", \"Contoh teks menggunakan Python\", dan 'Teks pada Python'.\n",
        "\n",
        "3. __Boolean Type__ : Tipe data boolean atau bool digunakan untuk menyimpan nilai kebenaran (True, False) dari suatu ekspresi logika.\n",
        "\n",
        "4. __Null Type__ : Tipe data null dalam Python digunakan untuk menyimpan nilai kosong atau tidak ada yang dinyatakan dengan None.\n",
        "\n",
        "Catatan : walaupun output dari 2 tipe data berbeda terlihat sama, namun nilai tersebut tersimpan berbeda dalam memori komputer."
      ],
      "metadata": {
        "id": "xOUanEGcINgP"
      }
    },
    {
      "cell_type": "code",
      "source": [
        "type(\"kucing\")"
      ],
      "metadata": {
        "colab": {
          "base_uri": "https://localhost:8080/"
        },
        "id": "KI0cUKzjIMku",
        "outputId": "41038417-fd0a-4359-db75-efc520d1677d"
      },
      "execution_count": null,
      "outputs": [
        {
          "output_type": "execute_result",
          "data": {
            "text/plain": [
              "str"
            ]
          },
          "metadata": {},
          "execution_count": 26
        }
      ]
    },
    {
      "cell_type": "code",
      "source": [
        "type(36)"
      ],
      "metadata": {
        "colab": {
          "base_uri": "https://localhost:8080/"
        },
        "id": "HAAeokz-IqRA",
        "outputId": "195ef595-9bd8-46b7-aae7-ec3b8444f982"
      },
      "execution_count": null,
      "outputs": [
        {
          "output_type": "execute_result",
          "data": {
            "text/plain": [
              "int"
            ]
          },
          "metadata": {},
          "execution_count": 27
        }
      ]
    },
    {
      "cell_type": "code",
      "source": [
        "type(36.0) "
      ],
      "metadata": {
        "colab": {
          "base_uri": "https://localhost:8080/"
        },
        "id": "hc4c1Q4MJvkU",
        "outputId": "657b4aed-dace-41d6-c9d0-4ccdb2706878"
      },
      "execution_count": null,
      "outputs": [
        {
          "output_type": "execute_result",
          "data": {
            "text/plain": [
              "float"
            ]
          },
          "metadata": {},
          "execution_count": 33
        }
      ]
    },
    {
      "cell_type": "code",
      "source": [
        "type(-8.7)"
      ],
      "metadata": {
        "colab": {
          "base_uri": "https://localhost:8080/"
        },
        "id": "Txz7cbI0ItQy",
        "outputId": "29602b61-97ac-44d7-9a9c-f8ff0165aff9"
      },
      "execution_count": null,
      "outputs": [
        {
          "output_type": "execute_result",
          "data": {
            "text/plain": [
              "float"
            ]
          },
          "metadata": {},
          "execution_count": 28
        }
      ]
    },
    {
      "cell_type": "code",
      "source": [
        "4-4==0"
      ],
      "metadata": {
        "colab": {
          "base_uri": "https://localhost:8080/"
        },
        "id": "D91fPkuJIxNK",
        "outputId": "6b783304-69ee-43a0-dba0-b592ce806aa4"
      },
      "execution_count": null,
      "outputs": [
        {
          "output_type": "execute_result",
          "data": {
            "text/plain": [
              "True"
            ]
          },
          "metadata": {},
          "execution_count": 30
        }
      ]
    },
    {
      "cell_type": "code",
      "source": [
        "3*4==10"
      ],
      "metadata": {
        "colab": {
          "base_uri": "https://localhost:8080/"
        },
        "id": "Sd4TKTmCJK7j",
        "outputId": "8992bb54-12b9-4d93-8cd0-c0a20f8dbcaa"
      },
      "execution_count": null,
      "outputs": [
        {
          "output_type": "execute_result",
          "data": {
            "text/plain": [
              "False"
            ]
          },
          "metadata": {},
          "execution_count": 31
        }
      ]
    },
    {
      "cell_type": "code",
      "source": [
        "3>0"
      ],
      "metadata": {
        "colab": {
          "base_uri": "https://localhost:8080/"
        },
        "id": "GpPv8FGPKth5",
        "outputId": "8b5a479f-1359-482a-e160-9ca7e58dfcda"
      },
      "execution_count": null,
      "outputs": [
        {
          "output_type": "execute_result",
          "data": {
            "text/plain": [
              "True"
            ]
          },
          "metadata": {},
          "execution_count": 39
        }
      ]
    },
    {
      "cell_type": "code",
      "source": [
        "-3>-1"
      ],
      "metadata": {
        "colab": {
          "base_uri": "https://localhost:8080/"
        },
        "id": "gdlkosAtKxPi",
        "outputId": "19022b3f-8bcf-49b9-849c-b478116f7f4f"
      },
      "execution_count": null,
      "outputs": [
        {
          "output_type": "execute_result",
          "data": {
            "text/plain": [
              "False"
            ]
          },
          "metadata": {},
          "execution_count": 41
        }
      ]
    },
    {
      "cell_type": "code",
      "source": [
        "type(True)"
      ],
      "metadata": {
        "colab": {
          "base_uri": "https://localhost:8080/"
        },
        "id": "wou-xgEgJcWb",
        "outputId": "408b1b0f-ef09-465a-985d-8399aeb1ac80"
      },
      "execution_count": null,
      "outputs": [
        {
          "output_type": "execute_result",
          "data": {
            "text/plain": [
              "bool"
            ]
          },
          "metadata": {},
          "execution_count": 32
        }
      ]
    },
    {
      "cell_type": "code",
      "source": [
        "print(4.0)"
      ],
      "metadata": {
        "colab": {
          "base_uri": "https://localhost:8080/"
        },
        "id": "_0NjvPI1Je-5",
        "outputId": "7f3e32ce-c4c1-47b8-9525-758d4192e058"
      },
      "execution_count": null,
      "outputs": [
        {
          "output_type": "stream",
          "name": "stdout",
          "text": [
            "4.0\n"
          ]
        }
      ]
    },
    {
      "cell_type": "code",
      "source": [
        "print(.4)"
      ],
      "metadata": {
        "colab": {
          "base_uri": "https://localhost:8080/"
        },
        "id": "dwtVekijKHZ5",
        "outputId": "207b5a04-594e-4be2-cec1-f7478f8406f9"
      },
      "execution_count": null,
      "outputs": [
        {
          "output_type": "stream",
          "name": "stdout",
          "text": [
            "0.4\n"
          ]
        }
      ]
    },
    {
      "cell_type": "code",
      "source": [
        "print(4.)"
      ],
      "metadata": {
        "colab": {
          "base_uri": "https://localhost:8080/"
        },
        "id": "rffL8pz3KLm9",
        "outputId": "3fe5d802-152e-4308-d82d-d5a47f75c1f8"
      },
      "execution_count": null,
      "outputs": [
        {
          "output_type": "stream",
          "name": "stdout",
          "text": [
            "4.0\n"
          ]
        }
      ]
    },
    {
      "cell_type": "code",
      "source": [
        "print(0.0000000003)"
      ],
      "metadata": {
        "colab": {
          "base_uri": "https://localhost:8080/"
        },
        "id": "AlC7aS1yKPzM",
        "outputId": "73d48347-5a15-4796-c392-a4c70556a9d2"
      },
      "execution_count": null,
      "outputs": [
        {
          "output_type": "stream",
          "name": "stdout",
          "text": [
            "3e-10\n"
          ]
        }
      ]
    },
    {
      "cell_type": "code",
      "source": [
        "print(3e6)"
      ],
      "metadata": {
        "colab": {
          "base_uri": "https://localhost:8080/"
        },
        "id": "_csnoKCJKaqb",
        "outputId": "cc7cfd2f-ec0a-4c03-c3e2-450b09827dd8"
      },
      "execution_count": null,
      "outputs": [
        {
          "output_type": "stream",
          "name": "stdout",
          "text": [
            "3000000.0\n"
          ]
        }
      ]
    },
    {
      "cell_type": "markdown",
      "source": [
        "## Operator Aritmetika\n",
        "\n",
        "| Operator | Arti                                                                                          | Contoh                  |\n",
        "|----------|--------------------------------------------------------------------------------------------------|--------------------------|\n",
        "| +        | Penambahan                                                                   | x + y                 |\n",
        "| -        | Pengurangan                                              | x - y                  |\n",
        "| *        | Perkalian                                                                            | x * y                    |\n",
        "| /        | Pembagian                                 | x / y                    |\n",
        "| %        | Modulo - Sisa Pembagian                                 | x % y (sisa pembagian of x/y) |\n",
        "| //       | Pembagian dan dibulatkan ke bawah | x // y                   |\n",
        "| **       | Eksponen - Pangkat                                             | x**y (x pangkat y)  |"
      ],
      "metadata": {
        "id": "-MM8z7sLK-p5"
      }
    },
    {
      "cell_type": "code",
      "source": [
        "print(2+3)"
      ],
      "metadata": {
        "colab": {
          "base_uri": "https://localhost:8080/"
        },
        "id": "x1gZPLEmK_ax",
        "outputId": "a2294181-9a2b-455d-ced5-ee4827f3cbd7"
      },
      "execution_count": null,
      "outputs": [
        {
          "output_type": "stream",
          "name": "stdout",
          "text": [
            "5\n"
          ]
        }
      ]
    },
    {
      "cell_type": "code",
      "source": [
        "print(2.3+3)"
      ],
      "metadata": {
        "colab": {
          "base_uri": "https://localhost:8080/"
        },
        "id": "EZKidZjSLR5C",
        "outputId": "bdf53e0b-64ff-4f88-f999-ab9bb0e4bdbd"
      },
      "execution_count": null,
      "outputs": [
        {
          "output_type": "stream",
          "name": "stdout",
          "text": [
            "5.3\n"
          ]
        }
      ]
    },
    {
      "cell_type": "code",
      "source": [
        "print(2.0+3)"
      ],
      "metadata": {
        "colab": {
          "base_uri": "https://localhost:8080/"
        },
        "id": "CHRylMctLVXO",
        "outputId": "98989e17-beaf-49e9-e7d3-3429d6d86f1b"
      },
      "execution_count": null,
      "outputs": [
        {
          "output_type": "stream",
          "name": "stdout",
          "text": [
            "5.0\n"
          ]
        }
      ]
    },
    {
      "cell_type": "code",
      "source": [
        "print(3*4)"
      ],
      "metadata": {
        "colab": {
          "base_uri": "https://localhost:8080/"
        },
        "id": "iFsD8VoYLY9L",
        "outputId": "8ee98fb9-817c-4a1a-c2e0-3d20bdb42fa0"
      },
      "execution_count": null,
      "outputs": [
        {
          "output_type": "stream",
          "name": "stdout",
          "text": [
            "12\n"
          ]
        }
      ]
    },
    {
      "cell_type": "code",
      "source": [
        "13/3"
      ],
      "metadata": {
        "colab": {
          "base_uri": "https://localhost:8080/"
        },
        "id": "4uX2JgztLpFf",
        "outputId": "aa29ba33-11a0-43c4-ffe0-a45da5580292"
      },
      "execution_count": null,
      "outputs": [
        {
          "output_type": "execute_result",
          "data": {
            "text/plain": [
              "4.333333333333333"
            ]
          },
          "metadata": {},
          "execution_count": 46
        }
      ]
    },
    {
      "cell_type": "code",
      "source": [
        "13//3"
      ],
      "metadata": {
        "colab": {
          "base_uri": "https://localhost:8080/"
        },
        "id": "7qxbYpm1Ltjt",
        "outputId": "ae98ce92-bcad-46ae-8d84-f9d6dab4711d"
      },
      "execution_count": null,
      "outputs": [
        {
          "output_type": "execute_result",
          "data": {
            "text/plain": [
              "4"
            ]
          },
          "metadata": {},
          "execution_count": 47
        }
      ]
    },
    {
      "cell_type": "code",
      "source": [
        "13%3"
      ],
      "metadata": {
        "colab": {
          "base_uri": "https://localhost:8080/"
        },
        "id": "JzDXjJwwL1X1",
        "outputId": "2821c9ef-e038-4b83-bb6c-be7dea19f4a8"
      },
      "execution_count": null,
      "outputs": [
        {
          "output_type": "execute_result",
          "data": {
            "text/plain": [
              "1"
            ]
          },
          "metadata": {},
          "execution_count": 48
        }
      ]
    },
    {
      "cell_type": "code",
      "source": [
        "2**3"
      ],
      "metadata": {
        "colab": {
          "base_uri": "https://localhost:8080/"
        },
        "id": "raLZgpBaL9ws",
        "outputId": "8e74fed6-2243-4644-baf4-0e64aaa9f296"
      },
      "execution_count": null,
      "outputs": [
        {
          "output_type": "execute_result",
          "data": {
            "text/plain": [
              "8"
            ]
          },
          "metadata": {},
          "execution_count": 49
        }
      ]
    },
    {
      "cell_type": "code",
      "source": [
        "\"kaca kucing\""
      ],
      "metadata": {
        "colab": {
          "base_uri": "https://localhost:8080/",
          "height": 36
        },
        "id": "BAkjZs4eNDOs",
        "outputId": "2b582dd8-174a-423d-97b1-d916bca5d3f3"
      },
      "execution_count": null,
      "outputs": [
        {
          "output_type": "execute_result",
          "data": {
            "text/plain": [
              "'kaca kucing'"
            ],
            "application/vnd.google.colaboratory.intrinsic+json": {
              "type": "string"
            }
          },
          "metadata": {},
          "execution_count": 57
        }
      ]
    },
    {
      "cell_type": "code",
      "source": [
        "print(\"3*4=\", 3*4, sep=\"\") "
      ],
      "metadata": {
        "colab": {
          "base_uri": "https://localhost:8080/"
        },
        "id": "_GU59udZMCc3",
        "outputId": "ad87cd17-3da9-4989-e6c3-0ef8edc9956a"
      },
      "execution_count": null,
      "outputs": [
        {
          "output_type": "stream",
          "name": "stdout",
          "text": [
            "3*4=12\n"
          ]
        }
      ]
    },
    {
      "cell_type": "code",
      "source": [
        "print(\"3*4\",\"=\", 3*4, sep=\" \") "
      ],
      "metadata": {
        "colab": {
          "base_uri": "https://localhost:8080/"
        },
        "id": "FiMuiv_NMYmY",
        "outputId": "dc9f0df0-1b35-4bf5-cf51-31deed13e89b"
      },
      "execution_count": null,
      "outputs": [
        {
          "output_type": "stream",
          "name": "stdout",
          "text": [
            "3*4 = 12\n"
          ]
        }
      ]
    },
    {
      "cell_type": "code",
      "source": [
        "print(\"3*4 =\", 3*4, sep=\" \") "
      ],
      "metadata": {
        "colab": {
          "base_uri": "https://localhost:8080/"
        },
        "id": "3i_ioYweMo7O",
        "outputId": "e3629e8c-49bb-45d3-c8d1-8acf69504d13"
      },
      "execution_count": null,
      "outputs": [
        {
          "output_type": "stream",
          "name": "stdout",
          "text": [
            "3*4 = 12\n"
          ]
        }
      ]
    },
    {
      "cell_type": "markdown",
      "source": [
        "| Prioritas| Operator |  ket   |\n",
        "|----------|----------|--------|\n",
        "| 1        | +, -     | unary  |\n",
        "| 2        | **       |        |\n",
        "| 3        | *, /, %  |        |\n",
        "| 4        | +, -     | binary |"
      ],
      "metadata": {
        "id": "2j6CA9GfNyEj"
      }
    },
    {
      "cell_type": "code",
      "source": [
        "2+3*5"
      ],
      "metadata": {
        "colab": {
          "base_uri": "https://localhost:8080/"
        },
        "id": "zUpAy9VoMtmi",
        "outputId": "19a3ed17-8a37-4651-9354-f9983746059d"
      },
      "execution_count": null,
      "outputs": [
        {
          "output_type": "execute_result",
          "data": {
            "text/plain": [
              "17"
            ]
          },
          "metadata": {},
          "execution_count": 58
        }
      ]
    },
    {
      "cell_type": "code",
      "source": [
        "9%6%2"
      ],
      "metadata": {
        "colab": {
          "base_uri": "https://localhost:8080/"
        },
        "id": "afU-9U0INV4w",
        "outputId": "2bf36eaf-c37d-4fc5-9f86-af04b5fefa0d"
      },
      "execution_count": null,
      "outputs": [
        {
          "output_type": "execute_result",
          "data": {
            "text/plain": [
              "1"
            ]
          },
          "metadata": {},
          "execution_count": 59
        }
      ]
    },
    {
      "cell_type": "code",
      "source": [
        "2**2**3"
      ],
      "metadata": {
        "colab": {
          "base_uri": "https://localhost:8080/"
        },
        "id": "c0UsDPwLNzk_",
        "outputId": "514ebab5-8d88-4fa0-b7d4-bc2bfa5a690e"
      },
      "execution_count": null,
      "outputs": [
        {
          "output_type": "execute_result",
          "data": {
            "text/plain": [
              "256"
            ]
          },
          "metadata": {},
          "execution_count": 60
        }
      ]
    },
    {
      "cell_type": "markdown",
      "source": [
        "# **Day 2**"
      ],
      "metadata": {
        "id": "62QH0PncXoHn"
      }
    },
    {
      "cell_type": "code",
      "source": [
        "print(\"my\", \"name\", '##') "
      ],
      "metadata": {
        "id": "bfn9ZC3xOlGb",
        "colab": {
          "base_uri": "https://localhost:8080/"
        },
        "outputId": "a750cf23-c6fd-4e49-810e-4742954b5e9b"
      },
      "execution_count": null,
      "outputs": [
        {
          "output_type": "stream",
          "name": "stdout",
          "text": [
            "my name ##\n"
          ]
        }
      ]
    },
    {
      "cell_type": "code",
      "source": [
        "var = 1.3\n",
        "uangku = 1e8\n",
        "Nama = 'uzu'\n",
        "oke = True\n",
        "print(var, uangku, Nama, oke)"
      ],
      "metadata": {
        "colab": {
          "base_uri": "https://localhost:8080/"
        },
        "id": "bkJRjSZ8Du-K",
        "outputId": "c24db740-f9d5-4157-d256-53ecc0632d07"
      },
      "execution_count": null,
      "outputs": [
        {
          "output_type": "stream",
          "name": "stdout",
          "text": [
            "1.3 100000000.0 uzu True\n"
          ]
        }
      ]
    },
    {
      "cell_type": "code",
      "source": [
        "1+2+3+4+5"
      ],
      "metadata": {
        "colab": {
          "base_uri": "https://localhost:8080/"
        },
        "id": "l-1JfLWEF53t",
        "outputId": "025ad0e8-d771-4a16-bbb6-9f2ecd39b0a2"
      },
      "execution_count": null,
      "outputs": [
        {
          "output_type": "execute_result",
          "data": {
            "text/plain": [
              "15"
            ]
          },
          "metadata": {},
          "execution_count": 3
        }
      ]
    },
    {
      "cell_type": "code",
      "source": [
        "x = 2\n",
        "y = x + 1\n",
        "y "
      ],
      "metadata": {
        "colab": {
          "base_uri": "https://localhost:8080/"
        },
        "id": "c7fUJGOjGAwA",
        "outputId": "84966b85-657e-4d8d-f8e7-5d3822e9952a"
      },
      "execution_count": null,
      "outputs": [
        {
          "output_type": "execute_result",
          "data": {
            "text/plain": [
              "3"
            ]
          },
          "metadata": {},
          "execution_count": 4
        }
      ]
    },
    {
      "cell_type": "code",
      "source": [
        "x = 2\n",
        "x = x+1\n",
        "x"
      ],
      "metadata": {
        "colab": {
          "base_uri": "https://localhost:8080/"
        },
        "id": "ojJnIIMtGQkA",
        "outputId": "e6cd9f3a-aa86-4d73-ef54-acd15d2f65f9"
      },
      "execution_count": null,
      "outputs": [
        {
          "output_type": "execute_result",
          "data": {
            "text/plain": [
              "3"
            ]
          },
          "metadata": {},
          "execution_count": 5
        }
      ]
    },
    {
      "cell_type": "code",
      "source": [
        "x = 5\n",
        "x = x+7\n",
        "x"
      ],
      "metadata": {
        "colab": {
          "base_uri": "https://localhost:8080/"
        },
        "id": "ySgxm1JpGlQ3",
        "outputId": "44a81d22-2247-473e-f36f-f2050fb4ed7a"
      },
      "execution_count": null,
      "outputs": [
        {
          "output_type": "execute_result",
          "data": {
            "text/plain": [
              "12"
            ]
          },
          "metadata": {},
          "execution_count": 6
        }
      ]
    },
    {
      "cell_type": "code",
      "source": [
        "x = 5\n",
        "x += 7 # -> x = x +7\n",
        "x"
      ],
      "metadata": {
        "colab": {
          "base_uri": "https://localhost:8080/"
        },
        "id": "g_g_8g_HGoWc",
        "outputId": "334f7ec0-6ac3-44a7-a074-167421d771d6"
      },
      "execution_count": null,
      "outputs": [
        {
          "output_type": "execute_result",
          "data": {
            "text/plain": [
              "12"
            ]
          },
          "metadata": {},
          "execution_count": 7
        }
      ]
    },
    {
      "cell_type": "code",
      "source": [
        "x = 7\n",
        "x *= 3 # -> x = x*3 \n",
        "x += 5 # -> x = x+5\n",
        "x \n"
      ],
      "metadata": {
        "colab": {
          "base_uri": "https://localhost:8080/"
        },
        "id": "nDmUa8qMGy_J",
        "outputId": "12c89869-b40c-4250-e28d-8dd079be900c"
      },
      "execution_count": null,
      "outputs": [
        {
          "output_type": "execute_result",
          "data": {
            "text/plain": [
              "26"
            ]
          },
          "metadata": {},
          "execution_count": 9
        }
      ]
    },
    {
      "cell_type": "markdown",
      "source": [
        "## Fungsi Input\n",
        "\n",
        "Fungsi input adalah fungsi yang digunakan untuk membaca data yang diinput melalui console.\n",
        "- katakunci `input()`\n",
        "- hasil dari fungsi `input()` adalah <b>string</b>"
      ],
      "metadata": {
        "id": "ReGCbepZHFQM"
      }
    },
    {
      "cell_type": "code",
      "source": [
        "input() # -> masukan input di sini adalah string"
      ],
      "metadata": {
        "colab": {
          "base_uri": "https://localhost:8080/",
          "height": 52
        },
        "id": "d2XJOR4GHJ9w",
        "outputId": "87ae6041-8de0-4a73-9adb-b6b3343d60f1"
      },
      "execution_count": null,
      "outputs": [
        {
          "name": "stdout",
          "output_type": "stream",
          "text": [
            "kucing lagi makan orang\n"
          ]
        },
        {
          "output_type": "execute_result",
          "data": {
            "text/plain": [
              "'kucing lagi makan orang'"
            ],
            "application/vnd.google.colaboratory.intrinsic+json": {
              "type": "string"
            }
          },
          "metadata": {},
          "execution_count": 10
        }
      ]
    },
    {
      "cell_type": "code",
      "source": [
        "S = input() # -> ini juga bisa pakai str(input()) \n",
        "print(S*2) "
      ],
      "metadata": {
        "colab": {
          "base_uri": "https://localhost:8080/"
        },
        "id": "9oGug8q9HjFI",
        "outputId": "7f7e212c-37c0-48ed-d3bc-36053fb1a5c7"
      },
      "execution_count": null,
      "outputs": [
        {
          "output_type": "stream",
          "name": "stdout",
          "text": [
            "kucing\n",
            "kucingkucing\n"
          ]
        }
      ]
    },
    {
      "cell_type": "code",
      "source": [
        "N = int(input()) \n",
        "print(N+5) "
      ],
      "metadata": {
        "colab": {
          "base_uri": "https://localhost:8080/"
        },
        "id": "PKA-yQLwH0zv",
        "outputId": "644bf766-af3b-40b1-86e8-bc3036a53c73"
      },
      "execution_count": null,
      "outputs": [
        {
          "output_type": "stream",
          "name": "stdout",
          "text": [
            "80\n",
            "85\n"
          ]
        }
      ]
    },
    {
      "cell_type": "code",
      "source": [
        "x = float(input())\n",
        "x/2 "
      ],
      "metadata": {
        "colab": {
          "base_uri": "https://localhost:8080/"
        },
        "id": "HVA3EaY1ILVE",
        "outputId": "c3c903d0-f0b3-4fa1-da52-cd2b93704ce6"
      },
      "execution_count": null,
      "outputs": [
        {
          "name": "stdout",
          "output_type": "stream",
          "text": [
            "9.81\n"
          ]
        },
        {
          "output_type": "execute_result",
          "data": {
            "text/plain": [
              "4.905"
            ]
          },
          "metadata": {},
          "execution_count": 15
        }
      ]
    },
    {
      "cell_type": "code",
      "source": [
        "a = int(input())\n",
        "b = int(input())\n",
        "\n",
        "a+b "
      ],
      "metadata": {
        "colab": {
          "base_uri": "https://localhost:8080/"
        },
        "id": "BArpfo8cIisM",
        "outputId": "6f90d7c1-d7c1-49a5-8100-f9b8f489d0ce"
      },
      "execution_count": null,
      "outputs": [
        {
          "name": "stdout",
          "output_type": "stream",
          "text": [
            "3\n",
            "4\n"
          ]
        },
        {
          "output_type": "execute_result",
          "data": {
            "text/plain": [
              "7"
            ]
          },
          "metadata": {},
          "execution_count": 16
        }
      ]
    },
    {
      "cell_type": "markdown",
      "source": [
        "## Lab\n",
        "Tulis rumus ini dalam kode program:<br/> $c=\\sqrt{a^2+b^2}$"
      ],
      "metadata": {
        "id": "JHa7njYHIzKo"
      }
    },
    {
      "cell_type": "code",
      "source": [
        "a = float(input())\n",
        "b = float(input())\n",
        "c = (a**2+b**2)**.5\n",
        "\n",
        "c"
      ],
      "metadata": {
        "colab": {
          "base_uri": "https://localhost:8080/"
        },
        "id": "tgmKSAgHI1t2",
        "outputId": "69d47d02-dba3-4150-d80e-513b49b2a503"
      },
      "execution_count": null,
      "outputs": [
        {
          "name": "stdout",
          "output_type": "stream",
          "text": [
            "3\n",
            "4\n"
          ]
        },
        {
          "output_type": "execute_result",
          "data": {
            "text/plain": [
              "5.0"
            ]
          },
          "metadata": {},
          "execution_count": 17
        }
      ]
    },
    {
      "cell_type": "markdown",
      "source": [
        "## Lab\n",
        "Kerjakan rumus berikut:\n",
        "\n",
        "$$y=\\frac{1}{x+\\frac{1}{x+\\frac{1}{x+\\frac{1}{x}}}}$$\n",
        "\n",
        "input/output yang diharapkan\n",
        "```python\n",
        "x = 1\n",
        "y = 0.6000000000000001\n",
        "\n",
        "x = 10\n",
        "y = 0.09901951266867294\n",
        "```"
      ],
      "metadata": {
        "id": "PUFR9ordJiPW"
      }
    },
    {
      "cell_type": "code",
      "source": [
        "x = float(input())\n",
        "\n",
        "x_1 = x + 1/x\n",
        "x_2 = x + 1/x_1\n",
        "x_3 = x + 1/x_2\n",
        "y = 1/x_3\n",
        "\n",
        "y"
      ],
      "metadata": {
        "colab": {
          "base_uri": "https://localhost:8080/"
        },
        "id": "nHlWtNKxJi2Q",
        "outputId": "19dbe8df-f2b7-4894-ab87-f3945a480436"
      },
      "execution_count": null,
      "outputs": [
        {
          "name": "stdout",
          "output_type": "stream",
          "text": [
            "10\n"
          ]
        },
        {
          "output_type": "execute_result",
          "data": {
            "text/plain": [
              "0.09901951266867294"
            ]
          },
          "metadata": {},
          "execution_count": 19
        }
      ]
    },
    {
      "cell_type": "markdown",
      "source": [
        "## Lab\n",
        "Tugasmu adalah mempersiapkan kode simpel untuk menentukan waktu akhir/selesai sebuah kegiatan. Diberikan variabel durasi waktu dalam menit dan waktu mulai dalam jam (0,1,2,...,23) dan menit (0,1,2,...,59) dengan hasil yang harus dicetak dalam console.\n",
        "\n",
        "Sebagai contoh, jika suatu kegiatan dimulai pukul `12:17` dan berlangsung selama `59 minutes` , maka kegiatan tersebut tersebut akan selesai pukul `13:16`.\n",
        "\n",
        "Kode Dasar:\n",
        "```python\n",
        "jam = int(input(\"waktu mulai (jam): \"))\n",
        "menit = int(input(\"waktu mulai (menit): \"))\n",
        "durasi= int(input(\"durasi kegiatan (minutes): \"))\n",
        "\n",
        "# Letakkan kodemu disini\n",
        "```\n",
        "Hint : gunakan operator %."
      ],
      "metadata": {
        "id": "etGA5jNhObqq"
      }
    },
    {
      "cell_type": "code",
      "source": [
        "jam = int(input(\"waktu mulai (jam): \"))\n",
        "menit = int(input(\"waktu mulai (menit): \"))\n",
        "durasi= int(input(\"durasi kegiatan (minutes): \"))\n",
        "\n",
        "menit_baru = (menit+durasi)%60\n",
        "jam_baru = (jam+(menit+durasi)//60)%24\n",
        "\n",
        "print('kegiatan tersebut selesai pukul', end=' ')\n",
        "print(jam_baru,menit_baru,sep=':')"
      ],
      "metadata": {
        "colab": {
          "base_uri": "https://localhost:8080/"
        },
        "id": "U-ktC9kWOdci",
        "outputId": "98b36b84-4ca6-47d8-d75a-a40a1b1314ac"
      },
      "execution_count": null,
      "outputs": [
        {
          "output_type": "stream",
          "name": "stdout",
          "text": [
            "waktu mulai (jam): 23\n",
            "waktu mulai (menit): 17\n",
            "durasi kegiatan (minutes): 2022\n",
            "kegiatan tersebut selesai pukul 8:59\n"
          ]
        }
      ]
    },
    {
      "cell_type": "markdown",
      "source": [
        "Module ini akan menjelaskan beberapa materi sebagai berikut : \n",
        "- Operator relasional;\n",
        "- Operator aritmatika;\n",
        "- Struktur pemilihan if-elif-else;\n",
        "- Struktur perulangan while dan for;\n",
        "- Statement loncat;\n",
        "- Operasi logika dan bitwise;\n",
        "- Lists dan Array."
      ],
      "metadata": {
        "id": "fYbWz3OeX7Az"
      }
    },
    {
      "cell_type": "markdown",
      "source": [
        "## 1. Operator Relasional\n",
        "Operator relasional adalah operator yang digunakan untuk membandingkan dua buah nilai. Hasil yang akan diperoleh dari operasi perbandingan ini adalah logika (bertipe bool), yaitu True (benar) atau False (salah).\n"
      ],
      "metadata": {
        "id": "MkVay-f4YMfQ"
      }
    },
    {
      "cell_type": "code",
      "source": [
        "a = int(input(\"masukkan a = \"))\n",
        "b = int(input(\"masukkan b = \"))\n",
        "c = int(input(\"masukkan c = \"))\n",
        "d = int(input(\"masukkan d = \"))\n",
        "\n",
        "print(\"a==b\",a==b)\n",
        "print(\"a==c\",a==c)\n",
        "print(\"a!=b\",a!=b) \n",
        "\n",
        "print(\"a>d\",a>d)\n",
        "print(\"b<d\",b<d)\n",
        "print(\"b<=d\",b<=d)\n",
        "print(\"b>=d\",b>=d) "
      ],
      "metadata": {
        "colab": {
          "base_uri": "https://localhost:8080/"
        },
        "id": "VV8DhRO9X7om",
        "outputId": "90c45879-75eb-4cc4-ca7f-7fd5da6c3c97"
      },
      "execution_count": null,
      "outputs": [
        {
          "output_type": "stream",
          "name": "stdout",
          "text": [
            "masukkan a = 1\n",
            "masukkan b = 1\n",
            "masukkan c = 2\n",
            "masukkan d = 2\n",
            "a==b True\n",
            "a==c False\n",
            "a!=b False\n",
            "a>d False\n",
            "b<d True\n",
            "b<=d True\n",
            "b>=d False\n"
          ]
        }
      ]
    },
    {
      "cell_type": "markdown",
      "source": [
        "## Statement if untuk satu kasus\n",
        "\n",
        "Bentuk umum penggunaan perintah if untuk satu kasus dalam Python adalah :\n",
        "\n",
        "```python\n",
        "if kondisi:\n",
        "    statement1\n",
        "    statement2\n",
        "    ...\n",
        "    \n",
        "```\n",
        "Pada bentuk diatas, statement1, statement2 dan seterusnya hanya akan dieksekusi jika kondisi yang didefinisikan dalam perintah If terpenuhi (bernilai True). Jika kondisi bernilai False, statement tersebut akan diabaikan oleh program.\n",
        "\n",
        "Perhatikan contoh berikut : "
      ],
      "metadata": {
        "id": "1wG_sAfTZgGD"
      }
    },
    {
      "cell_type": "code",
      "source": [
        "a = int(input())\n",
        "b = int(input())\n",
        "\n",
        "if a==b:\n",
        "    print('angka',a,'dan angka',b,'adalah sama.')\n",
        "else:\n",
        "    print('angka',a,'dan angka',b,'adalah tidak sama.')"
      ],
      "metadata": {
        "colab": {
          "base_uri": "https://localhost:8080/"
        },
        "id": "MFDW7zy1Zg8g",
        "outputId": "56a50951-b122-4d89-c107-95a63d7470ff"
      },
      "execution_count": null,
      "outputs": [
        {
          "output_type": "stream",
          "name": "stdout",
          "text": [
            "2\n",
            "2\n",
            "angka 2 dan angka 2 adalah sama.\n"
          ]
        }
      ]
    },
    {
      "cell_type": "code",
      "source": [
        "kata_1 = input()\n",
        "kata_2 = input()\n",
        "\n",
        "if kata_2 in kata_1:\n",
        "    print(kata_2,\"ada di dalam kata\",kata_1)"
      ],
      "metadata": {
        "colab": {
          "base_uri": "https://localhost:8080/"
        },
        "id": "8uAT2YTKZ-DD",
        "outputId": "93935e04-cea5-4a38-ec4b-642937f4d218"
      },
      "execution_count": null,
      "outputs": [
        {
          "output_type": "stream",
          "name": "stdout",
          "text": [
            "matematika\n",
            "a\n",
            "a ada di dalam kata matematika\n"
          ]
        }
      ]
    },
    {
      "cell_type": "code",
      "source": [
        "nilai = float(input(\"masukan nilai siswa \"))\n",
        "\n",
        "if nilai>100:\n",
        "    print(\"inputan nilai anda tidak sesuai, masukkan nilai dari 0-100\")\n",
        "elif nilai>80:\n",
        "    print(\"siswa dengan nilai\", nilai, \"lulus dengan predikat wow\")\n",
        "elif nilai>60:\n",
        "    print(\"siswa dengan nilai\", nilai, \"lulus dengan predikat cukup baik\")\n",
        "else:\n",
        "    print(\"siswa dengan nilai\", nilai, \"tidak lulus\")\n"
      ],
      "metadata": {
        "colab": {
          "base_uri": "https://localhost:8080/"
        },
        "id": "m07tZtXoaeGX",
        "outputId": "c6b12498-3f43-41ab-c3fb-929fc1b91867"
      },
      "execution_count": null,
      "outputs": [
        {
          "output_type": "stream",
          "name": "stdout",
          "text": [
            "masukan nilai siswa 79.79127912\n",
            "siswa dengan nilai 79.79127912 lulus dengan predikat cukup baik\n"
          ]
        }
      ]
    },
    {
      "cell_type": "markdown",
      "source": [
        "# Day 3"
      ],
      "metadata": {
        "id": "sqxuGuZcXsod"
      }
    },
    {
      "cell_type": "code",
      "source": [],
      "metadata": {
        "id": "4sEojkmjcHc5"
      },
      "execution_count": null,
      "outputs": []
    },
    {
      "cell_type": "markdown",
      "source": [
        "### pembulatan pada float"
      ],
      "metadata": {
        "id": "d7aB8ukBYTBY"
      }
    },
    {
      "cell_type": "code",
      "source": [
        "x = 37.9719271921 \n",
        "\n",
        "round(x, 0)"
      ],
      "metadata": {
        "colab": {
          "base_uri": "https://localhost:8080/"
        },
        "id": "CV5qYsJ4XtzI",
        "outputId": "4ebfcbd7-d148-492e-b5d5-04c6a9faaf3a"
      },
      "execution_count": null,
      "outputs": [
        {
          "output_type": "execute_result",
          "data": {
            "text/plain": [
              "38.0"
            ]
          },
          "metadata": {},
          "execution_count": 2
        }
      ]
    },
    {
      "cell_type": "code",
      "source": [
        "round(x, 1)"
      ],
      "metadata": {
        "colab": {
          "base_uri": "https://localhost:8080/"
        },
        "id": "jHOnDQVpYhcm",
        "outputId": "fa4eb94a-c680-46ca-fe05-15564919660a"
      },
      "execution_count": null,
      "outputs": [
        {
          "output_type": "execute_result",
          "data": {
            "text/plain": [
              "38.0"
            ]
          },
          "metadata": {},
          "execution_count": 3
        }
      ]
    },
    {
      "cell_type": "code",
      "source": [
        "round(x, 2)"
      ],
      "metadata": {
        "colab": {
          "base_uri": "https://localhost:8080/"
        },
        "id": "EzcuInYBYron",
        "outputId": "94511984-1731-47fb-de6c-f411c80b4f8b"
      },
      "execution_count": null,
      "outputs": [
        {
          "output_type": "execute_result",
          "data": {
            "text/plain": [
              "37.97"
            ]
          },
          "metadata": {},
          "execution_count": 4
        }
      ]
    },
    {
      "cell_type": "code",
      "source": [
        "round(x, 3)"
      ],
      "metadata": {
        "colab": {
          "base_uri": "https://localhost:8080/"
        },
        "id": "uVCG1JWdY3CK",
        "outputId": "a31dc0e4-c5cd-40b7-9cb0-0f5c97166663"
      },
      "execution_count": null,
      "outputs": [
        {
          "output_type": "execute_result",
          "data": {
            "text/plain": [
              "37.972"
            ]
          },
          "metadata": {},
          "execution_count": 5
        }
      ]
    },
    {
      "cell_type": "code",
      "source": [
        "y = 12345.6789\n",
        "\n",
        "round(y, -1)"
      ],
      "metadata": {
        "colab": {
          "base_uri": "https://localhost:8080/"
        },
        "id": "5xQB8Bf7Y9_k",
        "outputId": "741779eb-b159-4f00-8109-57bff25a4ebd"
      },
      "execution_count": null,
      "outputs": [
        {
          "output_type": "execute_result",
          "data": {
            "text/plain": [
              "12350.0"
            ]
          },
          "metadata": {},
          "execution_count": 6
        }
      ]
    },
    {
      "cell_type": "code",
      "source": [
        "round(y, -2)"
      ],
      "metadata": {
        "colab": {
          "base_uri": "https://localhost:8080/"
        },
        "id": "GhtLNb1ZZZjr",
        "outputId": "b643695c-06b7-40df-8ca3-1d5ac4f51cf3"
      },
      "execution_count": null,
      "outputs": [
        {
          "output_type": "execute_result",
          "data": {
            "text/plain": [
              "12300.0"
            ]
          },
          "metadata": {},
          "execution_count": 7
        }
      ]
    },
    {
      "cell_type": "code",
      "source": [
        "mil = float(input(\"masukkan nilai mil = \"))\n",
        "\n",
        "# 1 mil = 1.61 km \n",
        "\n",
        "# mil_ke_kilometer = ... #pendekatan sampai 2 angka dibelakang koma\n",
        "# ... mil sama dengan ... kilometer\n",
        "\n",
        "print(mil, \"mil sama dengan\", round(1.61*mil, 2), \"kilometer\") "
      ],
      "metadata": {
        "colab": {
          "base_uri": "https://localhost:8080/",
          "height": 380
        },
        "id": "1DpZIjCZZhRZ",
        "outputId": "582f2bc7-0009-4b86-8dd4-c5a776a85619"
      },
      "execution_count": null,
      "outputs": [
        {
          "output_type": "error",
          "ename": "KeyboardInterrupt",
          "evalue": "ignored",
          "traceback": [
            "\u001b[0;31m---------------------------------------------------------------------------\u001b[0m",
            "\u001b[0;31mKeyboardInterrupt\u001b[0m                         Traceback (most recent call last)",
            "\u001b[0;32m<ipython-input-8-f840489f48b4>\u001b[0m in \u001b[0;36m<module>\u001b[0;34m\u001b[0m\n\u001b[0;32m----> 1\u001b[0;31m \u001b[0mmil\u001b[0m \u001b[0;34m=\u001b[0m \u001b[0mfloat\u001b[0m\u001b[0;34m(\u001b[0m\u001b[0minput\u001b[0m\u001b[0;34m(\u001b[0m\u001b[0;34m\"masukkan nilai mil = \"\u001b[0m\u001b[0;34m)\u001b[0m\u001b[0;34m)\u001b[0m\u001b[0;34m\u001b[0m\u001b[0;34m\u001b[0m\u001b[0m\n\u001b[0m\u001b[1;32m      2\u001b[0m \u001b[0;34m\u001b[0m\u001b[0m\n\u001b[1;32m      3\u001b[0m \u001b[0;31m# 1 mil = 1.61 km\u001b[0m\u001b[0;34m\u001b[0m\u001b[0;34m\u001b[0m\u001b[0;34m\u001b[0m\u001b[0m\n\u001b[1;32m      4\u001b[0m \u001b[0;34m\u001b[0m\u001b[0m\n\u001b[1;32m      5\u001b[0m \u001b[0;31m# mil_ke_kilometer = ... #pendekatan sampai 2 angka dibelakang koma\u001b[0m\u001b[0;34m\u001b[0m\u001b[0;34m\u001b[0m\u001b[0;34m\u001b[0m\u001b[0m\n",
            "\u001b[0;32m/usr/local/lib/python3.7/dist-packages/ipykernel/kernelbase.py\u001b[0m in \u001b[0;36mraw_input\u001b[0;34m(self, prompt)\u001b[0m\n\u001b[1;32m    861\u001b[0m             \u001b[0mself\u001b[0m\u001b[0;34m.\u001b[0m\u001b[0m_parent_ident\u001b[0m\u001b[0;34m,\u001b[0m\u001b[0;34m\u001b[0m\u001b[0;34m\u001b[0m\u001b[0m\n\u001b[1;32m    862\u001b[0m             \u001b[0mself\u001b[0m\u001b[0;34m.\u001b[0m\u001b[0m_parent_header\u001b[0m\u001b[0;34m,\u001b[0m\u001b[0;34m\u001b[0m\u001b[0;34m\u001b[0m\u001b[0m\n\u001b[0;32m--> 863\u001b[0;31m             \u001b[0mpassword\u001b[0m\u001b[0;34m=\u001b[0m\u001b[0;32mFalse\u001b[0m\u001b[0;34m,\u001b[0m\u001b[0;34m\u001b[0m\u001b[0;34m\u001b[0m\u001b[0m\n\u001b[0m\u001b[1;32m    864\u001b[0m         )\n\u001b[1;32m    865\u001b[0m \u001b[0;34m\u001b[0m\u001b[0m\n",
            "\u001b[0;32m/usr/local/lib/python3.7/dist-packages/ipykernel/kernelbase.py\u001b[0m in \u001b[0;36m_input_request\u001b[0;34m(self, prompt, ident, parent, password)\u001b[0m\n\u001b[1;32m    902\u001b[0m             \u001b[0;32mexcept\u001b[0m \u001b[0mKeyboardInterrupt\u001b[0m\u001b[0;34m:\u001b[0m\u001b[0;34m\u001b[0m\u001b[0;34m\u001b[0m\u001b[0m\n\u001b[1;32m    903\u001b[0m                 \u001b[0;31m# re-raise KeyboardInterrupt, to truncate traceback\u001b[0m\u001b[0;34m\u001b[0m\u001b[0;34m\u001b[0m\u001b[0;34m\u001b[0m\u001b[0m\n\u001b[0;32m--> 904\u001b[0;31m                 \u001b[0;32mraise\u001b[0m \u001b[0mKeyboardInterrupt\u001b[0m\u001b[0;34m(\u001b[0m\u001b[0;34m\"Interrupted by user\"\u001b[0m\u001b[0;34m)\u001b[0m \u001b[0;32mfrom\u001b[0m \u001b[0;32mNone\u001b[0m\u001b[0;34m\u001b[0m\u001b[0;34m\u001b[0m\u001b[0m\n\u001b[0m\u001b[1;32m    905\u001b[0m             \u001b[0;32mexcept\u001b[0m \u001b[0mException\u001b[0m \u001b[0;32mas\u001b[0m \u001b[0me\u001b[0m\u001b[0;34m:\u001b[0m\u001b[0;34m\u001b[0m\u001b[0;34m\u001b[0m\u001b[0m\n\u001b[1;32m    906\u001b[0m                 \u001b[0mself\u001b[0m\u001b[0;34m.\u001b[0m\u001b[0mlog\u001b[0m\u001b[0;34m.\u001b[0m\u001b[0mwarning\u001b[0m\u001b[0;34m(\u001b[0m\u001b[0;34m\"Invalid Message:\"\u001b[0m\u001b[0;34m,\u001b[0m \u001b[0mexc_info\u001b[0m\u001b[0;34m=\u001b[0m\u001b[0;32mTrue\u001b[0m\u001b[0;34m)\u001b[0m\u001b[0;34m\u001b[0m\u001b[0;34m\u001b[0m\u001b[0m\n",
            "\u001b[0;31mKeyboardInterrupt\u001b[0m: Interrupted by user"
          ]
        }
      ]
    },
    {
      "cell_type": "code",
      "source": [
        "print(\"{} mil sama dengan {} kilometer\".format(mil, round(1.61*mil, 2)))  "
      ],
      "metadata": {
        "id": "1aQ205wBfPsc"
      },
      "execution_count": null,
      "outputs": []
    },
    {
      "cell_type": "code",
      "source": [
        "print('%g mil sama dengan %g kilometer' %(mil, round(1.61*mil, 2))) "
      ],
      "metadata": {
        "id": "ylF-EmL6gPka"
      },
      "execution_count": null,
      "outputs": []
    },
    {
      "cell_type": "markdown",
      "source": [
        "%s -> s(string) berupa kata-kata <br>\n",
        "%d -> integer <br>\n",
        "%f -> float <br>\n",
        "%g -> angka yang persis yang dimau"
      ],
      "metadata": {
        "id": "Rw_sUBwQgZWI"
      }
    },
    {
      "cell_type": "code",
      "source": [
        "kilometer = int(input())\n",
        "\n",
        "kilometer_ke_mil = ... #pendekatan sampai 2 angka dibelakang koma"
      ],
      "metadata": {
        "id": "lZJ67jrmbf3G"
      },
      "execution_count": null,
      "outputs": []
    },
    {
      "cell_type": "code",
      "source": [
        "nama = input('Namaku adalah ')\n",
        "umur = int(input('umurku saat ini '))\n",
        "tinggi_badan = float(input('tinggi badanku saat ini '))\n",
        "\n",
        "# Namaku adalah uzu dengan umur 20 tahun dan tinggi 177.7cm."
      ],
      "metadata": {
        "id": "2Qpyx_pngLjo"
      },
      "execution_count": null,
      "outputs": []
    },
    {
      "cell_type": "code",
      "source": [
        "#Print tipe 1\n",
        "print(\"Namaku adalah\",nama,\"dengan umur\",umur,\"tahun dan tinggi \", end='')\n",
        "print(tinggi_badan,'cm.', sep='') \n",
        "#Print tipe 2\n",
        "print(\"Namaku adalah {} dengan umur {} tahun dan tinggi {}cm.\".format(nama,umur,tinggi_badan))\n",
        "#Print tipe 3\n",
        "print(\"Namaku adalah %s dengan umur %d tahun dan tinggi %gcm.\" %(nama,umur,tinggi_badan))\n",
        "# Print tipe 4\n",
        "print(f\"Namaku adalah {nama} dengan umur {umur} tahun dan tinggi {tinggi_badan}cm.\")  "
      ],
      "metadata": {
        "id": "Yj-RekHbirMt"
      },
      "execution_count": null,
      "outputs": []
    },
    {
      "cell_type": "markdown",
      "source": [
        "## Struktur perulangan\n",
        "\n",
        "Python menyediakan dua statement untuk melakukan proses perulangan yaitu for dan while. Diantara kedua statement ini, secara umum for lebih banyak digunakan daripada while. \n"
      ],
      "metadata": {
        "id": "1EyPkT9Zp9In"
      }
    },
    {
      "cell_type": "markdown",
      "source": [
        "## Statement while\n",
        "\n",
        "Sama seperti kebanyakan bahasa pemrograman lainnya, Python juga mendukung statement while untuk melakukan perulangan satu atau sekelompok statement. Bentuk umum dari perulangan while adalah sebagai berikut : \n",
        "\n",
        "```python\n",
        "while kondisi:\n",
        "    statement1\n",
        "    statement2\n",
        "    statement1\n",
        "    :\n",
        "    :\n",
        "    statementn\n",
        "```\n",
        "Pada bentuk perulangan diatas, statement1, statement2 dan seterusnya merupakan sekelompok statement yang akan diulang. Statement tersebut akan terus dieksekusi/ diulang selama kondisi bernilai True. Maka diperlukan sebuah statement yang akan bernilai False, agar proses dapat berhenti. Perhatikan syntax berikut : "
      ],
      "metadata": {
        "id": "SQA9yozT8YzT"
      }
    },
    {
      "cell_type": "code",
      "source": [
        "# print bilangan genap dari 2 sampai 50\n",
        "\n",
        "i = 2\n",
        "while i<=50:\n",
        "    print(i)\n",
        "    i = i+2\n"
      ],
      "metadata": {
        "id": "DDcnavYWqBLL"
      },
      "execution_count": null,
      "outputs": []
    },
    {
      "cell_type": "code",
      "source": [
        "i = 0 \n",
        "while i<=48:\n",
        "    i += 2 #i = i+2\n",
        "    print(i) "
      ],
      "metadata": {
        "id": "GjvCVVWZrVNB"
      },
      "execution_count": null,
      "outputs": []
    },
    {
      "cell_type": "markdown",
      "source": [
        "print bilangan ganjil dari 1-47 <br>\n",
        "print bilangan kelipatan 3 dengan modulo 1 dari 1 sampai 49 (1,4,7,10,13,...,49)"
      ],
      "metadata": {
        "id": "8cQD90TBxF_4"
      }
    },
    {
      "cell_type": "code",
      "source": [
        "i = 1\n",
        "while i<=47:\n",
        "    print(i, end=' ')\n",
        "    i += 2"
      ],
      "metadata": {
        "id": "U02decAOvkU-"
      },
      "execution_count": null,
      "outputs": []
    },
    {
      "cell_type": "code",
      "source": [
        "j = 1\n",
        "while j<=49:\n",
        "    print(j, end=' ')\n",
        "    j += 3"
      ],
      "metadata": {
        "id": "lkQX-E7uvuX6"
      },
      "execution_count": null,
      "outputs": []
    },
    {
      "cell_type": "markdown",
      "source": [
        "print 2 pangkat dari 1 sampai suku ke 100 (1,2,4,...)"
      ],
      "metadata": {
        "id": "rNfKjRGvxU1-"
      }
    },
    {
      "cell_type": "code",
      "source": [
        "i = 0\n",
        "while i<=99:\n",
        "    print(2**i, end=' ')\n",
        "    i += 1"
      ],
      "metadata": {
        "id": "ONM2d0XSyTfG"
      },
      "execution_count": null,
      "outputs": []
    },
    {
      "cell_type": "code",
      "source": [
        "a,b,c,d,e = input().split()\n",
        "a=int(a);b=int(b);c=int(c);d=int(d);e=int(e)\n",
        "\n",
        "a+b+c+d+e"
      ],
      "metadata": {
        "id": "Fb9s0SIjzrJ3"
      },
      "execution_count": null,
      "outputs": []
    },
    {
      "cell_type": "code",
      "source": [
        "a,b,c,d,e = list(map(int, input().split())) \n",
        "\n",
        "a+b+c+d+e"
      ],
      "metadata": {
        "id": "P-JX2Mcp6jQd"
      },
      "execution_count": null,
      "outputs": []
    },
    {
      "cell_type": "markdown",
      "source": [
        "# Day 4"
      ],
      "metadata": {
        "id": "mvv4GNYF7lk_"
      }
    },
    {
      "cell_type": "markdown",
      "source": [
        "## For (Pengulangan)"
      ],
      "metadata": {
        "id": "L7KThd0KbSPF"
      }
    },
    {
      "cell_type": "code",
      "source": [
        "for i in range(10):\n",
        "    print(i)"
      ],
      "metadata": {
        "id": "j3VvL-IX6_LH",
        "colab": {
          "base_uri": "https://localhost:8080/"
        },
        "outputId": "e7059b28-c4cd-48f4-e8b8-751f8849c757"
      },
      "execution_count": null,
      "outputs": [
        {
          "output_type": "stream",
          "name": "stdout",
          "text": [
            "0\n",
            "1\n",
            "2\n",
            "3\n",
            "4\n",
            "5\n",
            "6\n",
            "7\n",
            "8\n",
            "9\n"
          ]
        }
      ]
    },
    {
      "cell_type": "markdown",
      "source": [
        "range(a,b,c)\n",
        "\n",
        "a = mulai angkanya dari berapa (default=0)\n",
        "\n",
        "b = selesainya sampai angka berapa - 1\n",
        "\n",
        "c = step(berapa langkah) (default=1)"
      ],
      "metadata": {
        "id": "guXZ0JWlbzyO"
      }
    },
    {
      "cell_type": "code",
      "source": [
        "for i in range(2,11,2):\n",
        "    print(i)"
      ],
      "metadata": {
        "colab": {
          "base_uri": "https://localhost:8080/"
        },
        "id": "RNiWyL0kboIc",
        "outputId": "ec2b2d06-2c07-44b9-ba75-cb3036e0655b"
      },
      "execution_count": null,
      "outputs": [
        {
          "output_type": "stream",
          "name": "stdout",
          "text": [
            "2\n",
            "4\n",
            "6\n",
            "8\n",
            "10\n"
          ]
        }
      ]
    },
    {
      "cell_type": "code",
      "source": [
        "for i in range(3,13):\n",
        "    print(i) "
      ],
      "metadata": {
        "colab": {
          "base_uri": "https://localhost:8080/"
        },
        "id": "pwaq62dGcGQ2",
        "outputId": "01b431dd-b54e-42f6-9bb9-3709694a8073"
      },
      "execution_count": null,
      "outputs": [
        {
          "output_type": "stream",
          "name": "stdout",
          "text": [
            "3\n",
            "4\n",
            "5\n",
            "6\n",
            "7\n",
            "8\n",
            "9\n",
            "10\n",
            "11\n",
            "12\n"
          ]
        }
      ]
    },
    {
      "cell_type": "code",
      "source": [
        "for i in range(3,13,1.5):\n",
        "    print(i)"
      ],
      "metadata": {
        "colab": {
          "base_uri": "https://localhost:8080/",
          "height": 183
        },
        "id": "hC3x7Glzco_C",
        "outputId": "609a2be3-ca9a-4a01-f24f-19f7ab8ea1cf"
      },
      "execution_count": null,
      "outputs": [
        {
          "output_type": "error",
          "ename": "TypeError",
          "evalue": "ignored",
          "traceback": [
            "\u001b[0;31m---------------------------------------------------------------------------\u001b[0m",
            "\u001b[0;31mTypeError\u001b[0m                                 Traceback (most recent call last)",
            "\u001b[0;32m<ipython-input-6-7467ff858880>\u001b[0m in \u001b[0;36m<module>\u001b[0;34m\u001b[0m\n\u001b[0;32m----> 1\u001b[0;31m \u001b[0;32mfor\u001b[0m \u001b[0mi\u001b[0m \u001b[0;32min\u001b[0m \u001b[0mrange\u001b[0m\u001b[0;34m(\u001b[0m\u001b[0;36m3\u001b[0m\u001b[0;34m,\u001b[0m\u001b[0;36m13\u001b[0m\u001b[0;34m,\u001b[0m\u001b[0;36m1.5\u001b[0m\u001b[0;34m)\u001b[0m\u001b[0;34m:\u001b[0m\u001b[0;34m\u001b[0m\u001b[0;34m\u001b[0m\u001b[0m\n\u001b[0m\u001b[1;32m      2\u001b[0m     \u001b[0mprint\u001b[0m\u001b[0;34m(\u001b[0m\u001b[0mi\u001b[0m\u001b[0;34m)\u001b[0m\u001b[0;34m\u001b[0m\u001b[0;34m\u001b[0m\u001b[0m\n",
            "\u001b[0;31mTypeError\u001b[0m: 'float' object cannot be interpreted as an integer"
          ]
        }
      ]
    },
    {
      "cell_type": "code",
      "source": [
        "List = []\n",
        "print(List, '<- list awal')\n",
        "\n",
        "for i in range(1,13,2):\n",
        "    List.append(i)\n",
        "\n",
        "print(List, '<- list akhir')"
      ],
      "metadata": {
        "colab": {
          "base_uri": "https://localhost:8080/"
        },
        "id": "7zXB6zn0czXz",
        "outputId": "b78ac9b4-acc3-4cf8-c008-18833b3dbb59"
      },
      "execution_count": null,
      "outputs": [
        {
          "output_type": "stream",
          "name": "stdout",
          "text": [
            "[] <- list awal\n",
            "[1, 3, 5, 7, 9, 11] <- list akhir\n"
          ]
        }
      ]
    },
    {
      "cell_type": "code",
      "source": [
        "List"
      ],
      "metadata": {
        "colab": {
          "base_uri": "https://localhost:8080/"
        },
        "id": "kKj-p6jDc1kN",
        "outputId": "cbb963a4-a7f1-404b-9f29-2b94147d0358"
      },
      "execution_count": null,
      "outputs": [
        {
          "output_type": "execute_result",
          "data": {
            "text/plain": [
              "[1, 3, 5, 7, 9, 11]"
            ]
          },
          "metadata": {},
          "execution_count": 10
        }
      ]
    },
    {
      "cell_type": "code",
      "source": [
        "for i in List:\n",
        "    print(i)"
      ],
      "metadata": {
        "colab": {
          "base_uri": "https://localhost:8080/"
        },
        "id": "cX3qAkKPeAE6",
        "outputId": "974ca130-54b5-4d90-d8c1-53b43df63c7e"
      },
      "execution_count": null,
      "outputs": [
        {
          "output_type": "stream",
          "name": "stdout",
          "text": [
            "1\n",
            "3\n",
            "5\n",
            "7\n",
            "9\n",
            "11\n"
          ]
        }
      ]
    },
    {
      "cell_type": "markdown",
      "source": [
        "### Break\n",
        "untuk menghentikan perulangan (for while)"
      ],
      "metadata": {
        "id": "BX9zZ--geWkZ"
      }
    },
    {
      "cell_type": "markdown",
      "source": [
        "### Continue\n",
        "untuk melangkahi/melewati langkah yang sedang dijalankan perulangan (for while)"
      ],
      "metadata": {
        "id": "HKT2uv1k7_mN"
      }
    },
    {
      "cell_type": "code",
      "source": [
        "List = [1,2,3,4,5,6,7] \n",
        "#kalau angkanya >7 yang diprint cukup sampai 7, kalau kurang 7 print sampai angka tersebut."
      ],
      "metadata": {
        "id": "20r4TM1ieHAL"
      },
      "execution_count": null,
      "outputs": []
    },
    {
      "cell_type": "code",
      "source": [
        "n = 15\n",
        "\n",
        "for i in range(1,n+1):\n",
        "    print(i)\n",
        "    if i>=7:\n",
        "        break"
      ],
      "metadata": {
        "colab": {
          "base_uri": "https://localhost:8080/"
        },
        "id": "4YnOUek4e1O2",
        "outputId": "129355cc-9c62-4eed-b51d-67243ba48971"
      },
      "execution_count": null,
      "outputs": [
        {
          "output_type": "stream",
          "name": "stdout",
          "text": [
            "1\n",
            "2\n",
            "3\n",
            "4\n",
            "5\n",
            "6\n",
            "7\n"
          ]
        }
      ]
    },
    {
      "cell_type": "code",
      "source": [
        "for i in range(1,50): \n",
        "    # print(i) \n",
        "    if i%7 == 0:\n",
        "        continue\n",
        "    print(i)"
      ],
      "metadata": {
        "colab": {
          "base_uri": "https://localhost:8080/"
        },
        "id": "88M57XwpfV85",
        "outputId": "6d0fa68a-5bb5-4045-e840-41094852f12b"
      },
      "execution_count": null,
      "outputs": [
        {
          "output_type": "stream",
          "name": "stdout",
          "text": [
            "1\n",
            "2\n",
            "3\n",
            "4\n",
            "5\n",
            "6\n",
            "8\n",
            "9\n",
            "10\n",
            "11\n",
            "12\n",
            "13\n",
            "15\n",
            "16\n",
            "17\n",
            "18\n",
            "19\n",
            "20\n",
            "22\n",
            "23\n",
            "24\n",
            "25\n",
            "26\n",
            "27\n",
            "29\n",
            "30\n",
            "31\n",
            "32\n",
            "33\n",
            "34\n",
            "36\n",
            "37\n",
            "38\n",
            "39\n",
            "40\n",
            "41\n",
            "43\n",
            "44\n",
            "45\n",
            "46\n",
            "47\n",
            "48\n"
          ]
        }
      ]
    },
    {
      "cell_type": "code",
      "source": [
        "for i in range(0,200,7):\n",
        "    print(i)"
      ],
      "metadata": {
        "colab": {
          "base_uri": "https://localhost:8080/"
        },
        "id": "kuNRfozgf8MO",
        "outputId": "eb1c2140-90bf-4b37-f0b0-96a24b5aa99f"
      },
      "execution_count": null,
      "outputs": [
        {
          "output_type": "stream",
          "name": "stdout",
          "text": [
            "0\n",
            "7\n",
            "14\n",
            "21\n",
            "28\n",
            "35\n",
            "42\n",
            "49\n",
            "56\n",
            "63\n",
            "70\n",
            "77\n",
            "84\n",
            "91\n",
            "98\n",
            "105\n",
            "112\n",
            "119\n",
            "126\n",
            "133\n",
            "140\n",
            "147\n",
            "154\n",
            "161\n",
            "168\n",
            "175\n",
            "182\n",
            "189\n",
            "196\n"
          ]
        }
      ]
    },
    {
      "cell_type": "code",
      "source": [
        "i=4 \n",
        "while i<=50:\n",
        "    print(i)\n",
        "    i = i +1"
      ],
      "metadata": {
        "colab": {
          "base_uri": "https://localhost:8080/"
        },
        "id": "X2-YvSYhiiHM",
        "outputId": "f1baa4a8-d652-4acb-de4f-e3c34b26a663"
      },
      "execution_count": null,
      "outputs": [
        {
          "output_type": "stream",
          "name": "stdout",
          "text": [
            "4\n",
            "5\n",
            "6\n",
            "7\n",
            "8\n",
            "9\n",
            "10\n",
            "11\n",
            "12\n",
            "13\n",
            "14\n",
            "15\n",
            "16\n",
            "17\n",
            "18\n",
            "19\n",
            "20\n",
            "21\n",
            "22\n",
            "23\n",
            "24\n",
            "25\n",
            "26\n",
            "27\n",
            "28\n",
            "29\n",
            "30\n",
            "31\n",
            "32\n",
            "33\n",
            "34\n",
            "35\n",
            "36\n",
            "37\n",
            "38\n",
            "39\n",
            "40\n",
            "41\n",
            "42\n",
            "43\n",
            "44\n",
            "45\n",
            "46\n",
            "47\n",
            "48\n",
            "49\n",
            "50\n"
          ]
        }
      ]
    },
    {
      "cell_type": "markdown",
      "source": [
        "Tentukan banyaknya pasangan bilangan asli (a, b) jika memenuhi a+b=2022"
      ],
      "metadata": {
        "id": "qIic8zfEjiUX"
      }
    },
    {
      "cell_type": "code",
      "source": [
        "i = 0\n",
        "pasangan = []\n",
        "\n",
        "for a in range(1,2023):\n",
        "    for b in range(1,2023):\n",
        "        if a+b==2022:\n",
        "            i += 1 \n",
        "            pasangan.append((a,b))\n",
        "print('Banyaknya pasangan bilbul ada sebanyak {}'.format(i))\n",
        "print('Pasangannya :')\n",
        "for j in pasangan:\n",
        "    print(j) "
      ],
      "metadata": {
        "id": "jk5U_9JFjtHS"
      },
      "execution_count": null,
      "outputs": []
    },
    {
      "cell_type": "markdown",
      "source": [
        "## LIST"
      ],
      "metadata": {
        "id": "Wes3VXLMoEww"
      }
    },
    {
      "cell_type": "code",
      "source": [
        "List = [1,2,3,4,5]\n",
        "type(List)"
      ],
      "metadata": {
        "colab": {
          "base_uri": "https://localhost:8080/"
        },
        "id": "hFYdebielbDF",
        "outputId": "21fe8429-d242-40e5-90af-1436f5f9f32b"
      },
      "execution_count": null,
      "outputs": [
        {
          "output_type": "execute_result",
          "data": {
            "text/plain": [
              "list"
            ]
          },
          "metadata": {},
          "execution_count": 28
        }
      ]
    },
    {
      "cell_type": "code",
      "source": [
        "print(List)\n",
        "List.append(6)\n",
        "print(List)"
      ],
      "metadata": {
        "colab": {
          "base_uri": "https://localhost:8080/"
        },
        "id": "lF-i9G45oGDr",
        "outputId": "05744cf8-cb38-40f1-9ce3-f23c494914e3"
      },
      "execution_count": null,
      "outputs": [
        {
          "output_type": "stream",
          "name": "stdout",
          "text": [
            "[1, 2, 3, 4, 5]\n",
            "[1, 2, 3, 4, 5, 6]\n"
          ]
        }
      ]
    },
    {
      "cell_type": "code",
      "source": [
        "List.append('kucing')\n",
        "List"
      ],
      "metadata": {
        "colab": {
          "base_uri": "https://localhost:8080/"
        },
        "id": "idejj0ZDogbr",
        "outputId": "55818ad4-606f-4d58-ebb6-f270f6cec649"
      },
      "execution_count": null,
      "outputs": [
        {
          "output_type": "execute_result",
          "data": {
            "text/plain": [
              "[1, 2, 3, 4, 5, 6, 'kucing']"
            ]
          },
          "metadata": {},
          "execution_count": 30
        }
      ]
    },
    {
      "cell_type": "code",
      "source": [
        "List.append([9.1, 1.2, 3.2])\n",
        "List"
      ],
      "metadata": {
        "colab": {
          "base_uri": "https://localhost:8080/"
        },
        "id": "nU5nMPfXomc6",
        "outputId": "c0357cab-7073-4aa2-a7cb-359f6a5a3a2f"
      },
      "execution_count": null,
      "outputs": [
        {
          "output_type": "execute_result",
          "data": {
            "text/plain": [
              "[1, 2, 3, 4, 5, 6, 'kucing', [9.1, 1.2, 3.2]]"
            ]
          },
          "metadata": {},
          "execution_count": 31
        }
      ]
    },
    {
      "cell_type": "code",
      "source": [
        "List[7] "
      ],
      "metadata": {
        "colab": {
          "base_uri": "https://localhost:8080/"
        },
        "id": "cN4LEG7couyB",
        "outputId": "f9e5f691-1155-49c9-869e-4ce92dfae02c"
      },
      "execution_count": null,
      "outputs": [
        {
          "output_type": "execute_result",
          "data": {
            "text/plain": [
              "[9.1, 1.2, 3.2]"
            ]
          },
          "metadata": {},
          "execution_count": 32
        }
      ]
    },
    {
      "cell_type": "code",
      "source": [
        "List[0]"
      ],
      "metadata": {
        "colab": {
          "base_uri": "https://localhost:8080/"
        },
        "id": "zsP2VZCao8Wl",
        "outputId": "2a0a0cc5-691e-482e-e813-f04e6e0d4d6b"
      },
      "execution_count": null,
      "outputs": [
        {
          "output_type": "execute_result",
          "data": {
            "text/plain": [
              "1"
            ]
          },
          "metadata": {},
          "execution_count": 33
        }
      ]
    },
    {
      "cell_type": "code",
      "source": [
        "List[-1]"
      ],
      "metadata": {
        "colab": {
          "base_uri": "https://localhost:8080/"
        },
        "id": "0pbxv38IpA03",
        "outputId": "f58d64ee-de1a-4513-d92b-9073fa629b50"
      },
      "execution_count": null,
      "outputs": [
        {
          "output_type": "execute_result",
          "data": {
            "text/plain": [
              "[9.1, 1.2, 3.2]"
            ]
          },
          "metadata": {},
          "execution_count": 35
        }
      ]
    },
    {
      "cell_type": "code",
      "source": [
        "List[-2]"
      ],
      "metadata": {
        "colab": {
          "base_uri": "https://localhost:8080/",
          "height": 35
        },
        "id": "4qHf3c_2pLU5",
        "outputId": "9a648b2d-501b-48f1-ab2c-656abd96eb90"
      },
      "execution_count": null,
      "outputs": [
        {
          "output_type": "execute_result",
          "data": {
            "text/plain": [
              "'kucing'"
            ],
            "application/vnd.google.colaboratory.intrinsic+json": {
              "type": "string"
            }
          },
          "metadata": {},
          "execution_count": 36
        }
      ]
    },
    {
      "cell_type": "code",
      "source": [
        "List[-8]"
      ],
      "metadata": {
        "colab": {
          "base_uri": "https://localhost:8080/"
        },
        "id": "HvTcYDWjpZED",
        "outputId": "de8ce989-0fd0-4600-b18d-822de75cdda5"
      },
      "execution_count": null,
      "outputs": [
        {
          "output_type": "execute_result",
          "data": {
            "text/plain": [
              "1"
            ]
          },
          "metadata": {},
          "execution_count": 38
        }
      ]
    },
    {
      "cell_type": "code",
      "source": [
        "List[6]"
      ],
      "metadata": {
        "colab": {
          "base_uri": "https://localhost:8080/",
          "height": 35
        },
        "id": "lfvPrVXEpb6I",
        "outputId": "636bb060-2bc1-4f12-f42b-1cb1f5d838ff"
      },
      "execution_count": null,
      "outputs": [
        {
          "output_type": "execute_result",
          "data": {
            "text/plain": [
              "'kucing'"
            ],
            "application/vnd.google.colaboratory.intrinsic+json": {
              "type": "string"
            }
          },
          "metadata": {},
          "execution_count": 40
        }
      ]
    },
    {
      "cell_type": "code",
      "source": [
        "print(List)\n",
        "List[6] = 'cat'\n",
        "List"
      ],
      "metadata": {
        "colab": {
          "base_uri": "https://localhost:8080/"
        },
        "id": "HkahBnGJprct",
        "outputId": "eab35ef3-1eaa-4165-f859-ae7dc2f053ed"
      },
      "execution_count": null,
      "outputs": [
        {
          "output_type": "stream",
          "name": "stdout",
          "text": [
            "[1, 2, 3, 4, 5, 6, 'kucing', [9.1, 1.2, 3.2]]\n"
          ]
        },
        {
          "output_type": "execute_result",
          "data": {
            "text/plain": [
              "[1, 2, 3, 4, 5, 6, 'cat', [9.1, 1.2, 3.2]]"
            ]
          },
          "metadata": {},
          "execution_count": 41
        }
      ]
    },
    {
      "cell_type": "markdown",
      "source": [
        "Indexing dalam List"
      ],
      "metadata": {
        "id": "gkr5DBSDp-GT"
      }
    },
    {
      "cell_type": "code",
      "source": [
        "List"
      ],
      "metadata": {
        "colab": {
          "base_uri": "https://localhost:8080/"
        },
        "id": "GHUFXuUVp0Oe",
        "outputId": "77a2254b-19af-4c5c-ec96-b3b713d9075a"
      },
      "execution_count": null,
      "outputs": [
        {
          "output_type": "execute_result",
          "data": {
            "text/plain": [
              "[1, 2, 3, 4, 5, 6, 'cat', [9.1, 1.2, 3.2]]"
            ]
          },
          "metadata": {},
          "execution_count": 42
        }
      ]
    },
    {
      "cell_type": "code",
      "source": [
        "List[2:4] "
      ],
      "metadata": {
        "colab": {
          "base_uri": "https://localhost:8080/"
        },
        "id": "TV97KzsTqDUw",
        "outputId": "b1d68cec-4eb9-4712-927d-73465e0fa4e1"
      },
      "execution_count": null,
      "outputs": [
        {
          "output_type": "execute_result",
          "data": {
            "text/plain": [
              "[3, 4]"
            ]
          },
          "metadata": {},
          "execution_count": 43
        }
      ]
    },
    {
      "cell_type": "code",
      "source": [
        "List[2:5]"
      ],
      "metadata": {
        "colab": {
          "base_uri": "https://localhost:8080/"
        },
        "id": "9_xNGVa2qMMu",
        "outputId": "f7ecdaa6-a438-42f7-c3e5-3d5483ce71d6"
      },
      "execution_count": null,
      "outputs": [
        {
          "output_type": "execute_result",
          "data": {
            "text/plain": [
              "[3, 4, 5]"
            ]
          },
          "metadata": {},
          "execution_count": 44
        }
      ]
    },
    {
      "cell_type": "code",
      "source": [
        "List[1:6]"
      ],
      "metadata": {
        "colab": {
          "base_uri": "https://localhost:8080/"
        },
        "id": "M7eTqPAbqN0P",
        "outputId": "90b38109-073b-488c-bd44-c13439459105"
      },
      "execution_count": null,
      "outputs": [
        {
          "output_type": "execute_result",
          "data": {
            "text/plain": [
              "[2, 3, 4, 5, 6]"
            ]
          },
          "metadata": {},
          "execution_count": 45
        }
      ]
    },
    {
      "cell_type": "code",
      "source": [
        "List[1:6:2] "
      ],
      "metadata": {
        "colab": {
          "base_uri": "https://localhost:8080/"
        },
        "id": "iH2E61daqS3X",
        "outputId": "8ba01fbc-2e66-4b8f-eba9-48a50b316437"
      },
      "execution_count": null,
      "outputs": [
        {
          "output_type": "execute_result",
          "data": {
            "text/plain": [
              "[2, 4, 6]"
            ]
          },
          "metadata": {},
          "execution_count": 46
        }
      ]
    },
    {
      "cell_type": "code",
      "source": [
        "List[:] #print semuanya"
      ],
      "metadata": {
        "colab": {
          "base_uri": "https://localhost:8080/"
        },
        "id": "VH9lv_62qYLs",
        "outputId": "f8ca096f-a63b-45d4-a250-ab23a5c551e4"
      },
      "execution_count": null,
      "outputs": [
        {
          "output_type": "execute_result",
          "data": {
            "text/plain": [
              "[1, 2, 3, 4, 5, 6, 'cat', [9.1, 1.2, 3.2]]"
            ]
          },
          "metadata": {},
          "execution_count": 47
        }
      ]
    },
    {
      "cell_type": "code",
      "source": [
        "List[:6] "
      ],
      "metadata": {
        "colab": {
          "base_uri": "https://localhost:8080/"
        },
        "id": "xVnGmjAxqnqg",
        "outputId": "c191e198-7825-4dea-c7bf-413c8937a6f2"
      },
      "execution_count": null,
      "outputs": [
        {
          "output_type": "execute_result",
          "data": {
            "text/plain": [
              "[1, 2, 3, 4, 5, 6]"
            ]
          },
          "metadata": {},
          "execution_count": 48
        }
      ]
    },
    {
      "cell_type": "code",
      "source": [
        "List[3:] "
      ],
      "metadata": {
        "colab": {
          "base_uri": "https://localhost:8080/"
        },
        "id": "4CUonmt4qyp7",
        "outputId": "31f58b69-82e2-4cc3-cd60-227052961a1b"
      },
      "execution_count": null,
      "outputs": [
        {
          "output_type": "execute_result",
          "data": {
            "text/plain": [
              "[4, 5, 6, 'cat', [9.1, 1.2, 3.2]]"
            ]
          },
          "metadata": {},
          "execution_count": 49
        }
      ]
    },
    {
      "cell_type": "code",
      "source": [
        "List_baru = [1,2,3,4,5,6,7,8,9]\n",
        "\n",
        "#swap (menukar suku ke a dengan suku ke b)\n",
        "\n",
        "List_baru[1]"
      ],
      "metadata": {
        "colab": {
          "base_uri": "https://localhost:8080/"
        },
        "id": "raadzjn4q4iB",
        "outputId": "01ca4d33-b494-4f92-b199-8553521d405c"
      },
      "execution_count": null,
      "outputs": [
        {
          "output_type": "execute_result",
          "data": {
            "text/plain": [
              "2"
            ]
          },
          "metadata": {},
          "execution_count": 50
        }
      ]
    },
    {
      "cell_type": "code",
      "source": [
        "List_baru[6]"
      ],
      "metadata": {
        "colab": {
          "base_uri": "https://localhost:8080/"
        },
        "id": "pnekxnCVrY6g",
        "outputId": "0fe25749-76f1-4142-9fcd-3987ef94528d"
      },
      "execution_count": null,
      "outputs": [
        {
          "output_type": "execute_result",
          "data": {
            "text/plain": [
              "7"
            ]
          },
          "metadata": {},
          "execution_count": 51
        }
      ]
    },
    {
      "cell_type": "code",
      "source": [
        "suku_ke2 = List_baru[1]\n",
        "suku_ke2"
      ],
      "metadata": {
        "colab": {
          "base_uri": "https://localhost:8080/"
        },
        "id": "ByedOM8lrbmw",
        "outputId": "fdafb19a-6ada-43ac-84eb-9aa37c750064"
      },
      "execution_count": null,
      "outputs": [
        {
          "output_type": "execute_result",
          "data": {
            "text/plain": [
              "2"
            ]
          },
          "metadata": {},
          "execution_count": 52
        }
      ]
    },
    {
      "cell_type": "code",
      "source": [
        "print(List_baru)\n",
        "List_baru[1] = List_baru[6]\n",
        "List_baru"
      ],
      "metadata": {
        "colab": {
          "base_uri": "https://localhost:8080/"
        },
        "id": "zvvq36sqrkkI",
        "outputId": "93673b55-eeb7-460f-8c81-853713d84e59"
      },
      "execution_count": null,
      "outputs": [
        {
          "output_type": "stream",
          "name": "stdout",
          "text": [
            "[1, 2, 3, 4, 5, 6, 7, 8, 9]\n"
          ]
        },
        {
          "output_type": "execute_result",
          "data": {
            "text/plain": [
              "[1, 7, 3, 4, 5, 6, 7, 8, 9]"
            ]
          },
          "metadata": {},
          "execution_count": 53
        }
      ]
    },
    {
      "cell_type": "code",
      "source": [
        "print(List_baru)\n",
        "List_baru[6] = suku_ke2\n",
        "List_baru"
      ],
      "metadata": {
        "colab": {
          "base_uri": "https://localhost:8080/"
        },
        "id": "Mz-VCGJ0rzAn",
        "outputId": "4ee50c59-641b-45ec-cab9-1cb2dcb2ca41"
      },
      "execution_count": null,
      "outputs": [
        {
          "output_type": "stream",
          "name": "stdout",
          "text": [
            "[1, 7, 3, 4, 5, 6, 7, 8, 9]\n"
          ]
        },
        {
          "output_type": "execute_result",
          "data": {
            "text/plain": [
              "[1, 7, 3, 4, 5, 6, 2, 8, 9]"
            ]
          },
          "metadata": {},
          "execution_count": 54
        }
      ]
    },
    {
      "cell_type": "markdown",
      "source": [
        "insert(a,b) untuk mengganti isi dari list suku ke a dengan b"
      ],
      "metadata": {
        "id": "5B2lLnI5sleb"
      }
    },
    {
      "cell_type": "code",
      "source": [
        "List"
      ],
      "metadata": {
        "colab": {
          "base_uri": "https://localhost:8080/"
        },
        "id": "0rAvzpzKsCZx",
        "outputId": "022d129d-a269-4edd-dfa0-e10c89c047ac"
      },
      "execution_count": null,
      "outputs": [
        {
          "output_type": "execute_result",
          "data": {
            "text/plain": [
              "[1, 2, 3, 4, 5, 6, 'cat', [9.1, 1.2, 3.2]]"
            ]
          },
          "metadata": {},
          "execution_count": 55
        }
      ]
    },
    {
      "cell_type": "code",
      "source": [
        "print(List)\n",
        "List.insert(4, '7')\n",
        "List"
      ],
      "metadata": {
        "colab": {
          "base_uri": "https://localhost:8080/"
        },
        "id": "5epBgTZGsrx2",
        "outputId": "04ba17bc-3393-47b2-c1b7-06aa47eb495d"
      },
      "execution_count": null,
      "outputs": [
        {
          "output_type": "stream",
          "name": "stdout",
          "text": [
            "[1, 2, 3, 4, 5, 6, 'cat', [9.1, 1.2, 3.2]]\n"
          ]
        },
        {
          "output_type": "execute_result",
          "data": {
            "text/plain": [
              "[1, 2, 3, 4, '7', 5, 6, 'cat', [9.1, 1.2, 3.2]]"
            ]
          },
          "metadata": {},
          "execution_count": 56
        }
      ]
    },
    {
      "cell_type": "code",
      "source": [
        "a = [1,2,3]\n",
        "b = [2,3,7]\n",
        "c = ['a','b','c']\n",
        "\n",
        "b+a+c"
      ],
      "metadata": {
        "colab": {
          "base_uri": "https://localhost:8080/"
        },
        "id": "_b_RaKJbs3Kv",
        "outputId": "ffcd7cbd-afa7-494b-9d90-b6ceaec394a9"
      },
      "execution_count": null,
      "outputs": [
        {
          "output_type": "execute_result",
          "data": {
            "text/plain": [
              "[2, 3, 7, 1, 2, 3, 'a', 'b', 'c']"
            ]
          },
          "metadata": {},
          "execution_count": 1
        }
      ]
    },
    {
      "cell_type": "code",
      "source": [
        "#extend (menggabungkan suatu list)\n",
        "\n",
        "a.extend(b)\n",
        "print(a)"
      ],
      "metadata": {
        "colab": {
          "base_uri": "https://localhost:8080/"
        },
        "id": "2Fob_h0btMnx",
        "outputId": "4071edbb-54a1-4517-f23c-1dd67f63c520"
      },
      "execution_count": null,
      "outputs": [
        {
          "output_type": "stream",
          "name": "stdout",
          "text": [
            "[1, 2, 3, 2, 3, 7]\n"
          ]
        }
      ]
    },
    {
      "cell_type": "code",
      "source": [
        "print(List)\n",
        "List.remove('7')\n",
        "List"
      ],
      "metadata": {
        "colab": {
          "base_uri": "https://localhost:8080/"
        },
        "id": "HRt6tDextgfX",
        "outputId": "20ec9b2d-2d3a-4c59-a7bf-d72e7be0a02d"
      },
      "execution_count": null,
      "outputs": [
        {
          "output_type": "stream",
          "name": "stdout",
          "text": [
            "[1, 2, 3, 4, '7', 5, 6, 'cat', [9.1, 1.2, 3.2]]\n"
          ]
        },
        {
          "output_type": "execute_result",
          "data": {
            "text/plain": [
              "[1, 2, 3, 4, 5, 6, 'cat', [9.1, 1.2, 3.2]]"
            ]
          },
          "metadata": {},
          "execution_count": 70
        }
      ]
    },
    {
      "cell_type": "code",
      "source": [
        "C = a+b\n",
        "print(C)\n",
        "C.remove(2)\n",
        "print(C)"
      ],
      "metadata": {
        "colab": {
          "base_uri": "https://localhost:8080/"
        },
        "id": "Kh1v5MWjt-iC",
        "outputId": "4519c93f-8c94-4eaf-8b24-6d02245168c9"
      },
      "execution_count": null,
      "outputs": [
        {
          "output_type": "stream",
          "name": "stdout",
          "text": [
            "[1, 2, 3, 2, 3, 7]\n",
            "[1, 3, 2, 3, 7]\n"
          ]
        }
      ]
    },
    {
      "cell_type": "code",
      "source": [
        "K = []\n",
        "for i in a+b:\n",
        "    if i!=2:\n",
        "        K.append(i)\n",
        "K"
      ],
      "metadata": {
        "colab": {
          "base_uri": "https://localhost:8080/"
        },
        "id": "_GEoUeLfuaP8",
        "outputId": "4a08445f-3af9-410c-a724-5f02482fae15"
      },
      "execution_count": null,
      "outputs": [
        {
          "output_type": "execute_result",
          "data": {
            "text/plain": [
              "[1, 3, 3, 7]"
            ]
          },
          "metadata": {},
          "execution_count": 79
        }
      ]
    },
    {
      "cell_type": "code",
      "source": [
        "C = a+b\n",
        "for i in C:\n",
        "    if i==2:\n",
        "        C.remove(2)\n",
        "C"
      ],
      "metadata": {
        "colab": {
          "base_uri": "https://localhost:8080/"
        },
        "id": "uZdAM3FDv9bk",
        "outputId": "c1f7d870-ca3e-4a17-8b6e-29e2fcb95e65"
      },
      "execution_count": null,
      "outputs": [
        {
          "output_type": "execute_result",
          "data": {
            "text/plain": [
              "[1, 3, 3, 7]"
            ]
          },
          "metadata": {},
          "execution_count": 82
        }
      ]
    },
    {
      "cell_type": "code",
      "source": [
        "C = a+b\n",
        "print(C)\n",
        "i = 0\n",
        "for j in C:\n",
        "    if j==2:\n",
        "        i+=1\n",
        "print(i)\n",
        "\n",
        "for k in range(i):\n",
        "    C.remove(2)\n",
        "print(C)"
      ],
      "metadata": {
        "colab": {
          "base_uri": "https://localhost:8080/"
        },
        "id": "8xYSMXXkvIXH",
        "outputId": "5c5d386c-1a3d-4d19-8ebf-c31c5933daea"
      },
      "execution_count": null,
      "outputs": [
        {
          "output_type": "stream",
          "name": "stdout",
          "text": [
            "[1, 2, 3, 2, 3, 7]\n",
            "2\n",
            "[1, 3, 3, 7]\n"
          ]
        }
      ]
    },
    {
      "cell_type": "code",
      "source": [
        "C = a+b\n",
        "C.count(2)\n",
        "\n",
        "for k in range(C.count(2)):\n",
        "    C.remove(2)\n",
        "print(C)"
      ],
      "metadata": {
        "colab": {
          "base_uri": "https://localhost:8080/"
        },
        "id": "pUecCCWX0U_A",
        "outputId": "89f09670-d2f4-487d-eba1-12f538242c0b"
      },
      "execution_count": null,
      "outputs": [
        {
          "output_type": "stream",
          "name": "stdout",
          "text": [
            "[1, 3, 3, 7]\n"
          ]
        }
      ]
    },
    {
      "cell_type": "code",
      "source": [
        "List"
      ],
      "metadata": {
        "colab": {
          "base_uri": "https://localhost:8080/"
        },
        "id": "FAUUYmMhvjGg",
        "outputId": "3ef4bf30-103e-48cf-abba-a69f37cf2a4d"
      },
      "execution_count": null,
      "outputs": [
        {
          "output_type": "execute_result",
          "data": {
            "text/plain": [
              "[1, 2, 3, 4, 5, 6, 'cat', [9.1, 1.2, 3.2]]"
            ]
          },
          "metadata": {},
          "execution_count": 83
        }
      ]
    },
    {
      "cell_type": "code",
      "source": [
        "len(List)"
      ],
      "metadata": {
        "colab": {
          "base_uri": "https://localhost:8080/"
        },
        "id": "wd7afRXCwNhr",
        "outputId": "21b348aa-8ba4-4309-9c4d-3836c12d60f9"
      },
      "execution_count": null,
      "outputs": [
        {
          "output_type": "execute_result",
          "data": {
            "text/plain": [
              "8"
            ]
          },
          "metadata": {},
          "execution_count": 84
        }
      ]
    },
    {
      "cell_type": "code",
      "source": [
        "List_angka = [3,7,8,-11,-100,2020,-3,0,1,-1]"
      ],
      "metadata": {
        "id": "ogtPpdtAwQPe"
      },
      "execution_count": null,
      "outputs": []
    },
    {
      "cell_type": "code",
      "source": [
        "len(List_angka)"
      ],
      "metadata": {
        "colab": {
          "base_uri": "https://localhost:8080/"
        },
        "id": "NfM1v8Glww2a",
        "outputId": "e7a23d0e-4e99-4fc2-8e8d-02ccd0389749"
      },
      "execution_count": null,
      "outputs": [
        {
          "output_type": "execute_result",
          "data": {
            "text/plain": [
              "10"
            ]
          },
          "metadata": {},
          "execution_count": 86
        }
      ]
    },
    {
      "cell_type": "code",
      "source": [
        "List_angka.sort()\n",
        "List_angka"
      ],
      "metadata": {
        "colab": {
          "base_uri": "https://localhost:8080/"
        },
        "id": "Q9qSpuaVw0nG",
        "outputId": "a773d8f3-6281-4125-95ce-b5a08f2effb2"
      },
      "execution_count": null,
      "outputs": [
        {
          "output_type": "execute_result",
          "data": {
            "text/plain": [
              "[-100, -11, -3, -1, 0, 1, 3, 7, 8, 2020]"
            ]
          },
          "metadata": {},
          "execution_count": 88
        }
      ]
    },
    {
      "cell_type": "code",
      "source": [
        "List_angka.reverse()\n",
        "List_angka"
      ],
      "metadata": {
        "colab": {
          "base_uri": "https://localhost:8080/"
        },
        "id": "9M3JT9p3w6bK",
        "outputId": "f2c3f6d9-3f39-4327-b5a5-c69116aef36d"
      },
      "execution_count": null,
      "outputs": [
        {
          "output_type": "execute_result",
          "data": {
            "text/plain": [
              "[2020, 8, 7, 3, 1, 0, -1, -3, -11, -100]"
            ]
          },
          "metadata": {},
          "execution_count": 89
        }
      ]
    },
    {
      "cell_type": "code",
      "source": [
        "List_angka.append(8.9)\n",
        "List_angka"
      ],
      "metadata": {
        "colab": {
          "base_uri": "https://localhost:8080/"
        },
        "id": "kKbt2ZvwxFiS",
        "outputId": "a82d528e-255d-4f90-fb10-87c4ee3e6a6f"
      },
      "execution_count": null,
      "outputs": [
        {
          "output_type": "execute_result",
          "data": {
            "text/plain": [
              "[2020, 8, 7, 3, 1, 0, -1, -3, -11, -100, 8.9]"
            ]
          },
          "metadata": {},
          "execution_count": 90
        }
      ]
    },
    {
      "cell_type": "code",
      "source": [
        "List_angka.sort()\n",
        "List_angka"
      ],
      "metadata": {
        "colab": {
          "base_uri": "https://localhost:8080/"
        },
        "id": "Occnzrd9xMcv",
        "outputId": "c6c30f4b-9fc6-4e05-d538-2c14f5e61d32"
      },
      "execution_count": null,
      "outputs": [
        {
          "output_type": "execute_result",
          "data": {
            "text/plain": [
              "[-100, -11, -3, -1, 0, 1, 3, 7, 8, 8.9, 2020]"
            ]
          },
          "metadata": {},
          "execution_count": 91
        }
      ]
    },
    {
      "cell_type": "code",
      "source": [
        "List_angka.append('c')\n",
        "for i in List_angka:\n",
        "    print(i)"
      ],
      "metadata": {
        "colab": {
          "base_uri": "https://localhost:8080/"
        },
        "id": "7l_zGfztxPVr",
        "outputId": "e17e4d49-718a-4531-f39c-73d64d6cc804"
      },
      "execution_count": null,
      "outputs": [
        {
          "output_type": "stream",
          "name": "stdout",
          "text": [
            "-100\n",
            "-11\n",
            "-3\n",
            "-1\n",
            "0\n",
            "1\n",
            "3\n",
            "7\n",
            "8\n",
            "8.9\n",
            "2020\n",
            "c\n",
            "c\n",
            "c\n"
          ]
        }
      ]
    },
    {
      "cell_type": "code",
      "source": [
        "print(List)\n",
        "List.pop(-4)"
      ],
      "metadata": {
        "colab": {
          "base_uri": "https://localhost:8080/"
        },
        "id": "OEgIY5F-xU8C",
        "outputId": "1f8bd8d2-1eaf-465f-b4b5-e4f1d2ca03d6"
      },
      "execution_count": null,
      "outputs": [
        {
          "output_type": "stream",
          "name": "stdout",
          "text": [
            "[2, 3, 4, 5, 6, 'cat']\n"
          ]
        },
        {
          "output_type": "execute_result",
          "data": {
            "text/plain": [
              "4"
            ]
          },
          "metadata": {},
          "execution_count": 98
        }
      ]
    },
    {
      "cell_type": "code",
      "source": [
        "List"
      ],
      "metadata": {
        "colab": {
          "base_uri": "https://localhost:8080/"
        },
        "id": "xJrJX--ux4fW",
        "outputId": "4a557695-5ee4-4a7e-fd10-398874f8f033"
      },
      "execution_count": null,
      "outputs": [
        {
          "output_type": "execute_result",
          "data": {
            "text/plain": [
              "[2, 3, 5, 6, 'cat']"
            ]
          },
          "metadata": {},
          "execution_count": 99
        }
      ]
    },
    {
      "cell_type": "code",
      "source": [
        "List.pop(0)\n",
        "List"
      ],
      "metadata": {
        "colab": {
          "base_uri": "https://localhost:8080/"
        },
        "id": "KuOWB126y356",
        "outputId": "e65f7084-1cfb-4d1a-9dfd-2d7e05c94b9d"
      },
      "execution_count": null,
      "outputs": [
        {
          "output_type": "execute_result",
          "data": {
            "text/plain": [
              "[3, 5, 6, 'cat']"
            ]
          },
          "metadata": {},
          "execution_count": 100
        }
      ]
    },
    {
      "cell_type": "code",
      "source": [
        "List_x = [2, 3, 5, 6, 'cat']\n",
        "del List_x[1:3]\n",
        "List_x"
      ],
      "metadata": {
        "colab": {
          "base_uri": "https://localhost:8080/"
        },
        "id": "MkV7VV9uWx6q",
        "outputId": "de85e562-07af-4910-f202-2a7a0fb6244b"
      },
      "execution_count": null,
      "outputs": [
        {
          "output_type": "execute_result",
          "data": {
            "text/plain": [
              "[2, 6, 'cat']"
            ]
          },
          "metadata": {},
          "execution_count": 81
        }
      ]
    },
    {
      "cell_type": "code",
      "source": [
        "List.clear()\n",
        "List"
      ],
      "metadata": {
        "colab": {
          "base_uri": "https://localhost:8080/"
        },
        "id": "W37qS9FVy_G5",
        "outputId": "b1c323bc-b078-49d5-e9e0-ef25ff4a724f"
      },
      "execution_count": null,
      "outputs": [
        {
          "output_type": "execute_result",
          "data": {
            "text/plain": [
              "[]"
            ]
          },
          "metadata": {},
          "execution_count": 101
        }
      ]
    },
    {
      "cell_type": "code",
      "source": [
        "List_angka"
      ],
      "metadata": {
        "colab": {
          "base_uri": "https://localhost:8080/"
        },
        "id": "aDWW2QI4zYdR",
        "outputId": "cfdaebce-e74e-4de6-d8bc-2dbd368532a1"
      },
      "execution_count": null,
      "outputs": [
        {
          "output_type": "execute_result",
          "data": {
            "text/plain": [
              "[-100, -11, -3, -1, 0, 1, 3, 7, 8, 8.9, 2020, 'c', 'c', 'c']"
            ]
          },
          "metadata": {},
          "execution_count": 102
        }
      ]
    },
    {
      "cell_type": "code",
      "source": [
        "List_angka_baru = List_angka.copy()\n",
        "List_angka_baru"
      ],
      "metadata": {
        "colab": {
          "base_uri": "https://localhost:8080/"
        },
        "id": "MW1CbZ_ezh5M",
        "outputId": "da84bb7e-a31e-46f2-8d7c-e9915ef7c856"
      },
      "execution_count": null,
      "outputs": [
        {
          "output_type": "execute_result",
          "data": {
            "text/plain": [
              "[-100, -11, -3, -1, 0, 1, 3, 7, 8, 8.9, 2020, 'c', 'c', 'c']"
            ]
          },
          "metadata": {},
          "execution_count": 103
        }
      ]
    },
    {
      "cell_type": "code",
      "source": [
        "List_angka_baru.count('c')"
      ],
      "metadata": {
        "colab": {
          "base_uri": "https://localhost:8080/"
        },
        "id": "CP5yeVEuz8hi",
        "outputId": "6424824c-f1e1-48d0-97a7-1914f77c338b"
      },
      "execution_count": null,
      "outputs": [
        {
          "output_type": "execute_result",
          "data": {
            "text/plain": [
              "3"
            ]
          },
          "metadata": {},
          "execution_count": 104
        }
      ]
    },
    {
      "cell_type": "code",
      "source": [
        "List_angka_baru.index(8.9)"
      ],
      "metadata": {
        "colab": {
          "base_uri": "https://localhost:8080/"
        },
        "id": "TKU7yc5O0QHh",
        "outputId": "5aa0a30d-0d37-462d-fbdd-f230a24858ca"
      },
      "execution_count": null,
      "outputs": [
        {
          "output_type": "execute_result",
          "data": {
            "text/plain": [
              "9"
            ]
          },
          "metadata": {},
          "execution_count": 111
        }
      ]
    },
    {
      "cell_type": "code",
      "source": [
        "List_angka_baru.index('c')"
      ],
      "metadata": {
        "colab": {
          "base_uri": "https://localhost:8080/"
        },
        "id": "3M7_zVDn0v1c",
        "outputId": "043b7f14-19b8-4366-d65e-d1e7a975bcb1"
      },
      "execution_count": null,
      "outputs": [
        {
          "output_type": "execute_result",
          "data": {
            "text/plain": [
              "11"
            ]
          },
          "metadata": {},
          "execution_count": 112
        }
      ]
    },
    {
      "cell_type": "code",
      "source": [
        "List_baru = []\n",
        "for i in List_angka_baru[:-3]:\n",
        "    if i>0:\n",
        "        List_baru.append(i)\n",
        "List_baru[:5] "
      ],
      "metadata": {
        "colab": {
          "base_uri": "https://localhost:8080/"
        },
        "id": "rzWFCHtb02Mi",
        "outputId": "84242bad-beea-4569-8aeb-b003a05b184d"
      },
      "execution_count": null,
      "outputs": [
        {
          "output_type": "execute_result",
          "data": {
            "text/plain": [
              "[1, 3, 7, 8, 8.9]"
            ]
          },
          "metadata": {},
          "execution_count": 115
        }
      ]
    },
    {
      "cell_type": "code",
      "source": [
        "List_angka_baru[:-3]"
      ],
      "metadata": {
        "colab": {
          "base_uri": "https://localhost:8080/"
        },
        "id": "fojLueMi1Vs2",
        "outputId": "515a9802-f115-4f15-98f5-b1081a6556ff"
      },
      "execution_count": null,
      "outputs": [
        {
          "output_type": "execute_result",
          "data": {
            "text/plain": [
              "[-100, -11, -3, -1, 0, 1, 3, 7, 8, 8.9, 2020]"
            ]
          },
          "metadata": {},
          "execution_count": 114
        }
      ]
    },
    {
      "cell_type": "markdown",
      "source": [
        "### List Comprehension"
      ],
      "metadata": {
        "id": "xInq6DNpraAe"
      }
    },
    {
      "cell_type": "code",
      "source": [
        "List_baru = []\n",
        "for i in List_angka_baru[:-3]:\n",
        "    if i>0:\n",
        "        List_baru.append(i)\n",
        "        if len(List_baru)>=5:\n",
        "            break\n",
        "List_baru"
      ],
      "metadata": {
        "colab": {
          "base_uri": "https://localhost:8080/"
        },
        "id": "zCLypNLA1XUx",
        "outputId": "bd6e6fa0-27f5-4151-a5c9-e1a6cf9e16f9"
      },
      "execution_count": null,
      "outputs": [
        {
          "output_type": "execute_result",
          "data": {
            "text/plain": [
              "[1, 3, 7, 8, 8.9]"
            ]
          },
          "metadata": {},
          "execution_count": 117
        }
      ]
    },
    {
      "cell_type": "code",
      "source": [
        "[i for i in List_angka_baru[:-3] if i>0][:5]"
      ],
      "metadata": {
        "colab": {
          "base_uri": "https://localhost:8080/"
        },
        "id": "c7BD40N92CxY",
        "outputId": "d88ddb66-e716-469c-b5f1-fb9fb186368d"
      },
      "execution_count": null,
      "outputs": [
        {
          "output_type": "execute_result",
          "data": {
            "text/plain": [
              "[1, 3, 7, 8, 8.9]"
            ]
          },
          "metadata": {},
          "execution_count": 119
        }
      ]
    },
    {
      "cell_type": "code",
      "source": [
        "List = []\n",
        "for i in range(3,8):\n",
        "    List.append(i)\n",
        "List"
      ],
      "metadata": {
        "colab": {
          "base_uri": "https://localhost:8080/"
        },
        "id": "_poh3PHY3yvu",
        "outputId": "9644dac7-d9b8-42dc-f409-216fd45e2adf"
      },
      "execution_count": null,
      "outputs": [
        {
          "output_type": "execute_result",
          "data": {
            "text/plain": [
              "[3, 4, 5, 6, 7]"
            ]
          },
          "metadata": {},
          "execution_count": 122
        }
      ]
    },
    {
      "cell_type": "code",
      "source": [
        "[i for i in range(3,11)]"
      ],
      "metadata": {
        "colab": {
          "base_uri": "https://localhost:8080/"
        },
        "id": "mPN5REyF3_oK",
        "outputId": "e268fcc5-0233-4220-b36f-e0de6b704223"
      },
      "execution_count": null,
      "outputs": [
        {
          "output_type": "execute_result",
          "data": {
            "text/plain": [
              "[3, 4, 5, 6, 7, 8, 9, 10]"
            ]
          },
          "metadata": {},
          "execution_count": 124
        }
      ]
    },
    {
      "cell_type": "code",
      "source": [
        "List = []\n",
        "for i in range(3,11):\n",
        "    if i%3!=1:\n",
        "        List.append(i)\n",
        "List"
      ],
      "metadata": {
        "colab": {
          "base_uri": "https://localhost:8080/"
        },
        "id": "xGtINEK04NYW",
        "outputId": "96eb338e-5ce5-45ce-ae38-a12cbf65ecbe"
      },
      "execution_count": null,
      "outputs": [
        {
          "output_type": "execute_result",
          "data": {
            "text/plain": [
              "[3, 5, 6, 8, 9]"
            ]
          },
          "metadata": {},
          "execution_count": 126
        }
      ]
    },
    {
      "cell_type": "code",
      "source": [
        "[i for i in range(3,11) if i%3!=1]"
      ],
      "metadata": {
        "colab": {
          "base_uri": "https://localhost:8080/"
        },
        "id": "mGiXfLjF4mXC",
        "outputId": "e12d943d-7bc2-4622-c29b-fd64abe9072d"
      },
      "execution_count": null,
      "outputs": [
        {
          "output_type": "execute_result",
          "data": {
            "text/plain": [
              "[3, 5, 6, 8, 9]"
            ]
          },
          "metadata": {},
          "execution_count": 127
        }
      ]
    },
    {
      "cell_type": "code",
      "source": [
        "T = []\n",
        "for i in S:\n",
        "    if i%2==0:\n",
        "        T.append(i)\n",
        "T"
      ],
      "metadata": {
        "id": "TbCqC459YNyr"
      },
      "execution_count": null,
      "outputs": []
    },
    {
      "cell_type": "code",
      "source": [
        "T = [i for i in S if i%2==0]\n",
        "T"
      ],
      "metadata": {
        "id": "ZXQBXqY_4wim",
        "colab": {
          "base_uri": "https://localhost:8080/"
        },
        "outputId": "59db3777-6b64-4a19-c8cb-d47a622573a3"
      },
      "execution_count": null,
      "outputs": [
        {
          "output_type": "execute_result",
          "data": {
            "text/plain": [
              "[0, 4, 16, 36, 64]"
            ]
          },
          "metadata": {},
          "execution_count": 85
        }
      ]
    },
    {
      "cell_type": "markdown",
      "source": [
        "# Day 5"
      ],
      "metadata": {
        "id": "0EMCWYBA_9BU"
      }
    },
    {
      "cell_type": "markdown",
      "source": [
        "## Tuple"
      ],
      "metadata": {
        "id": "b6VWjOZGGeAh"
      }
    },
    {
      "cell_type": "code",
      "source": [
        "tupel = (2,3,5,7) #bedanya dengan list datanya tidak dapat diubah"
      ],
      "metadata": {
        "id": "014JJA_bGciN"
      },
      "execution_count": null,
      "outputs": []
    },
    {
      "cell_type": "code",
      "source": [
        "tupel[0]"
      ],
      "metadata": {
        "colab": {
          "base_uri": "https://localhost:8080/"
        },
        "id": "-OtsxRBjGu1x",
        "outputId": "b14e50d3-15ac-4a77-ff84-7328ffaa872c"
      },
      "execution_count": null,
      "outputs": [
        {
          "output_type": "execute_result",
          "data": {
            "text/plain": [
              "2"
            ]
          },
          "metadata": {},
          "execution_count": 2
        }
      ]
    },
    {
      "cell_type": "code",
      "source": [
        "tupel[-1]"
      ],
      "metadata": {
        "colab": {
          "base_uri": "https://localhost:8080/"
        },
        "id": "MqYiaFsOG-_r",
        "outputId": "8a1a0a49-fb7b-44b7-eaf2-fe44df34e9d8"
      },
      "execution_count": null,
      "outputs": [
        {
          "output_type": "execute_result",
          "data": {
            "text/plain": [
              "7"
            ]
          },
          "metadata": {},
          "execution_count": 3
        }
      ]
    },
    {
      "cell_type": "code",
      "source": [
        "tupel[0:3]"
      ],
      "metadata": {
        "colab": {
          "base_uri": "https://localhost:8080/"
        },
        "id": "KFkXPFZYHBnD",
        "outputId": "3b45144d-ff9b-46f0-efca-1f804d9fda60"
      },
      "execution_count": null,
      "outputs": [
        {
          "output_type": "execute_result",
          "data": {
            "text/plain": [
              "(2, 3, 5)"
            ]
          },
          "metadata": {},
          "execution_count": 4
        }
      ]
    },
    {
      "cell_type": "code",
      "source": [
        "tupel[2:]"
      ],
      "metadata": {
        "colab": {
          "base_uri": "https://localhost:8080/"
        },
        "id": "Ko28kTmyHHED",
        "outputId": "8df72c9b-feed-4eab-f60e-580f44a64e47"
      },
      "execution_count": null,
      "outputs": [
        {
          "output_type": "execute_result",
          "data": {
            "text/plain": [
              "(5, 7)"
            ]
          },
          "metadata": {},
          "execution_count": 5
        }
      ]
    },
    {
      "cell_type": "code",
      "source": [
        "tupel.append(2)"
      ],
      "metadata": {
        "colab": {
          "base_uri": "https://localhost:8080/",
          "height": 167
        },
        "id": "iSBoypKlHN4z",
        "outputId": "67862e11-ced8-4a57-844c-22d0ca5e769a"
      },
      "execution_count": null,
      "outputs": [
        {
          "output_type": "error",
          "ename": "AttributeError",
          "evalue": "ignored",
          "traceback": [
            "\u001b[0;31m---------------------------------------------------------------------------\u001b[0m",
            "\u001b[0;31mAttributeError\u001b[0m                            Traceback (most recent call last)",
            "\u001b[0;32m<ipython-input-6-b338dcfb1c07>\u001b[0m in \u001b[0;36m<module>\u001b[0;34m\u001b[0m\n\u001b[0;32m----> 1\u001b[0;31m \u001b[0mtupel\u001b[0m\u001b[0;34m.\u001b[0m\u001b[0mappend\u001b[0m\u001b[0;34m(\u001b[0m\u001b[0;36m2\u001b[0m\u001b[0;34m)\u001b[0m\u001b[0;34m\u001b[0m\u001b[0;34m\u001b[0m\u001b[0m\n\u001b[0m",
            "\u001b[0;31mAttributeError\u001b[0m: 'tuple' object has no attribute 'append'"
          ]
        }
      ]
    },
    {
      "cell_type": "code",
      "source": [
        "tupel.remove(2)"
      ],
      "metadata": {
        "colab": {
          "base_uri": "https://localhost:8080/",
          "height": 167
        },
        "id": "JuaqR5GkHScS",
        "outputId": "79d8f884-7469-45fd-90a5-ca35990b86e2"
      },
      "execution_count": null,
      "outputs": [
        {
          "output_type": "error",
          "ename": "AttributeError",
          "evalue": "ignored",
          "traceback": [
            "\u001b[0;31m---------------------------------------------------------------------------\u001b[0m",
            "\u001b[0;31mAttributeError\u001b[0m                            Traceback (most recent call last)",
            "\u001b[0;32m<ipython-input-7-72ea0b671a78>\u001b[0m in \u001b[0;36m<module>\u001b[0;34m\u001b[0m\n\u001b[0;32m----> 1\u001b[0;31m \u001b[0mtupel\u001b[0m\u001b[0;34m.\u001b[0m\u001b[0mremove\u001b[0m\u001b[0;34m(\u001b[0m\u001b[0;36m2\u001b[0m\u001b[0;34m)\u001b[0m\u001b[0;34m\u001b[0m\u001b[0;34m\u001b[0m\u001b[0m\n\u001b[0m",
            "\u001b[0;31mAttributeError\u001b[0m: 'tuple' object has no attribute 'remove'"
          ]
        }
      ]
    },
    {
      "cell_type": "code",
      "source": [],
      "metadata": {
        "id": "go8YiVS5HUn5"
      },
      "execution_count": null,
      "outputs": []
    },
    {
      "cell_type": "markdown",
      "source": [
        "## Set"
      ],
      "metadata": {
        "id": "nTilUFv6HlI_"
      }
    },
    {
      "cell_type": "markdown",
      "source": [
        "Set bisa disebut himpunan {a,b,c,...}\n",
        "- Set tidak memiliki koordinat/index tiap anggotanya, jadi untuk set posisi anggota dianggap tidak penting.\n",
        "- Set tidak dapat memiliki lebih dari satu anggota dengan nilai yang sama"
      ],
      "metadata": {
        "id": "NYhzdt4yHphD"
      }
    },
    {
      "cell_type": "code",
      "source": [
        "set_0 = {4,5,6,2}\n",
        "set_0"
      ],
      "metadata": {
        "colab": {
          "base_uri": "https://localhost:8080/"
        },
        "id": "sDwV-jmrHojT",
        "outputId": "968abcca-92bf-4c6b-97c1-303b3d29a743"
      },
      "execution_count": null,
      "outputs": [
        {
          "output_type": "execute_result",
          "data": {
            "text/plain": [
              "{2, 4, 5, 6}"
            ]
          },
          "metadata": {},
          "execution_count": 17
        }
      ]
    },
    {
      "cell_type": "code",
      "source": [
        "set_1 = {1,3,1,1,2,9,7,2,3,5,8,9}\n",
        "set_1"
      ],
      "metadata": {
        "colab": {
          "base_uri": "https://localhost:8080/"
        },
        "id": "I6BIV74AIBVV",
        "outputId": "b4fdfbc1-9b2a-4cc9-d29b-a6cf6583fdd3"
      },
      "execution_count": null,
      "outputs": [
        {
          "output_type": "execute_result",
          "data": {
            "text/plain": [
              "{1, 2, 3, 5, 7, 8, 9}"
            ]
          },
          "metadata": {},
          "execution_count": 10
        }
      ]
    },
    {
      "cell_type": "code",
      "source": [
        "set_1[0]"
      ],
      "metadata": {
        "colab": {
          "base_uri": "https://localhost:8080/",
          "height": 167
        },
        "id": "QtS727gVIJAF",
        "outputId": "f6c50b0c-78b8-4519-f3cd-f3cc4074e9aa"
      },
      "execution_count": null,
      "outputs": [
        {
          "output_type": "error",
          "ename": "TypeError",
          "evalue": "ignored",
          "traceback": [
            "\u001b[0;31m---------------------------------------------------------------------------\u001b[0m",
            "\u001b[0;31mTypeError\u001b[0m                                 Traceback (most recent call last)",
            "\u001b[0;32m<ipython-input-11-a26ed39fc722>\u001b[0m in \u001b[0;36m<module>\u001b[0;34m\u001b[0m\n\u001b[0;32m----> 1\u001b[0;31m \u001b[0mset_1\u001b[0m\u001b[0;34m[\u001b[0m\u001b[0;36m0\u001b[0m\u001b[0;34m]\u001b[0m\u001b[0;34m\u001b[0m\u001b[0;34m\u001b[0m\u001b[0m\n\u001b[0m",
            "\u001b[0;31mTypeError\u001b[0m: 'set' object is not subscriptable"
          ]
        }
      ]
    },
    {
      "cell_type": "code",
      "source": [
        "set_1"
      ],
      "metadata": {
        "colab": {
          "base_uri": "https://localhost:8080/"
        },
        "id": "XR3rcGypIUDQ",
        "outputId": "c1aa6b6a-6df5-4492-9caa-16d896469298"
      },
      "execution_count": null,
      "outputs": [
        {
          "output_type": "execute_result",
          "data": {
            "text/plain": [
              "{1, 2, 3, 5, 7, 8, 9}"
            ]
          },
          "metadata": {},
          "execution_count": 12
        }
      ]
    },
    {
      "cell_type": "code",
      "source": [
        "set_1.add(1)\n",
        "set_1"
      ],
      "metadata": {
        "colab": {
          "base_uri": "https://localhost:8080/"
        },
        "id": "979CDw7YJl_x",
        "outputId": "64620052-fd47-4f67-aace-0377f07d68d1"
      },
      "execution_count": null,
      "outputs": [
        {
          "output_type": "execute_result",
          "data": {
            "text/plain": [
              "{1, 2, 3, 5, 7, 8, 9}"
            ]
          },
          "metadata": {},
          "execution_count": 14
        }
      ]
    },
    {
      "cell_type": "code",
      "source": [
        "set_1.add(8.9) #menambahkan satu anggota\n",
        "set_1"
      ],
      "metadata": {
        "colab": {
          "base_uri": "https://localhost:8080/"
        },
        "id": "B6karmNfJvm-",
        "outputId": "4ab99b46-5122-40b0-db35-0d3f02308616"
      },
      "execution_count": null,
      "outputs": [
        {
          "output_type": "execute_result",
          "data": {
            "text/plain": [
              "{1, 2, 3, 5, 7, 8, 8.9, 9}"
            ]
          },
          "metadata": {},
          "execution_count": 15
        }
      ]
    },
    {
      "cell_type": "code",
      "source": [
        "set_0"
      ],
      "metadata": {
        "colab": {
          "base_uri": "https://localhost:8080/"
        },
        "id": "rVpT1JGBJ0FH",
        "outputId": "630362dc-af97-4c56-d0b3-b1667efd4448"
      },
      "execution_count": null,
      "outputs": [
        {
          "output_type": "execute_result",
          "data": {
            "text/plain": [
              "{2, 4, 5, 6}"
            ]
          },
          "metadata": {},
          "execution_count": 18
        }
      ]
    },
    {
      "cell_type": "code",
      "source": [
        "set_1.update(['a','b','c'])\n",
        "set_1"
      ],
      "metadata": {
        "colab": {
          "base_uri": "https://localhost:8080/"
        },
        "id": "DyX_BuiRJ79k",
        "outputId": "b00b85d2-494b-4319-a5af-7991e736c26c"
      },
      "execution_count": null,
      "outputs": [
        {
          "output_type": "execute_result",
          "data": {
            "text/plain": [
              "{1, 2, 3, 5, 7, 8, 8.9, 9, 'a', 'b', 'c'}"
            ]
          },
          "metadata": {},
          "execution_count": 21
        }
      ]
    },
    {
      "cell_type": "code",
      "source": [
        "set_2 = {1,'a',5,'c',3.2,'b'}\n",
        "set_2"
      ],
      "metadata": {
        "colab": {
          "base_uri": "https://localhost:8080/"
        },
        "id": "YuKWwHx5KIdb",
        "outputId": "dbe0b8ab-c3b0-45da-d007-ed67c485867c"
      },
      "execution_count": null,
      "outputs": [
        {
          "output_type": "execute_result",
          "data": {
            "text/plain": [
              "{1, 3.2, 5, 'a', 'b', 'c'}"
            ]
          },
          "metadata": {},
          "execution_count": 22
        }
      ]
    },
    {
      "cell_type": "code",
      "source": [
        "set_2.add('A')\n",
        "set_2"
      ],
      "metadata": {
        "colab": {
          "base_uri": "https://localhost:8080/"
        },
        "id": "jvAE3sbdKfSL",
        "outputId": "18d89a1b-f73c-4207-9498-bd2816df5f93"
      },
      "execution_count": null,
      "outputs": [
        {
          "output_type": "execute_result",
          "data": {
            "text/plain": [
              "{1, 3.2, 5, 'A', 'a', 'b', 'c'}"
            ]
          },
          "metadata": {},
          "execution_count": 23
        }
      ]
    },
    {
      "cell_type": "code",
      "source": [
        "set_2.update(['z','kucing','meong'])\n",
        "set_2"
      ],
      "metadata": {
        "colab": {
          "base_uri": "https://localhost:8080/"
        },
        "id": "khlR7KSQKpJ-",
        "outputId": "3b268811-8622-4cfd-9d8d-81b63bfbaf47"
      },
      "execution_count": null,
      "outputs": [
        {
          "output_type": "execute_result",
          "data": {
            "text/plain": [
              "{1, 3.2, 5, 'A', 'a', 'b', 'c', 'kucing', 'meong', 'z'}"
            ]
          },
          "metadata": {},
          "execution_count": 24
        }
      ]
    },
    {
      "cell_type": "code",
      "source": [
        "ord('kucing')"
      ],
      "metadata": {
        "colab": {
          "base_uri": "https://localhost:8080/",
          "height": 167
        },
        "id": "qdDX7ptiK3JC",
        "outputId": "14628411-465d-4fce-e32b-15d560b541e0"
      },
      "execution_count": null,
      "outputs": [
        {
          "output_type": "error",
          "ename": "TypeError",
          "evalue": "ignored",
          "traceback": [
            "\u001b[0;31m---------------------------------------------------------------------------\u001b[0m",
            "\u001b[0;31mTypeError\u001b[0m                                 Traceback (most recent call last)",
            "\u001b[0;32m<ipython-input-29-b2b6d6eea779>\u001b[0m in \u001b[0;36m<module>\u001b[0;34m\u001b[0m\n\u001b[0;32m----> 1\u001b[0;31m \u001b[0mord\u001b[0m\u001b[0;34m(\u001b[0m\u001b[0;34m'kucing'\u001b[0m\u001b[0;34m)\u001b[0m\u001b[0;34m\u001b[0m\u001b[0;34m\u001b[0m\u001b[0m\n\u001b[0m",
            "\u001b[0;31mTypeError\u001b[0m: ord() expected a character, but string of length 6 found"
          ]
        }
      ]
    },
    {
      "cell_type": "code",
      "source": [
        "ord('A')"
      ],
      "metadata": {
        "colab": {
          "base_uri": "https://localhost:8080/"
        },
        "id": "B6SdEhWyK8Sm",
        "outputId": "f58b6673-4d9b-4c36-8274-19980ee2acad"
      },
      "execution_count": null,
      "outputs": [
        {
          "output_type": "execute_result",
          "data": {
            "text/plain": [
              "65"
            ]
          },
          "metadata": {},
          "execution_count": 27
        }
      ]
    },
    {
      "cell_type": "code",
      "source": [
        "ord('a')"
      ],
      "metadata": {
        "colab": {
          "base_uri": "https://localhost:8080/"
        },
        "id": "bT41Dx8HLTnt",
        "outputId": "62b01ef6-fb9e-4e38-8c37-e1cde76142ea"
      },
      "execution_count": null,
      "outputs": [
        {
          "output_type": "execute_result",
          "data": {
            "text/plain": [
              "97"
            ]
          },
          "metadata": {},
          "execution_count": 28
        }
      ]
    },
    {
      "cell_type": "code",
      "source": [
        "set_2.add('kacang')\n",
        "set_2"
      ],
      "metadata": {
        "colab": {
          "base_uri": "https://localhost:8080/"
        },
        "id": "IlJ0fcOnLU9a",
        "outputId": "3c5e4236-5f22-4c98-bf1b-c3b263c2f5bf"
      },
      "execution_count": null,
      "outputs": [
        {
          "output_type": "execute_result",
          "data": {
            "text/plain": [
              "{1, 3.2, 5, 'A', 'a', 'b', 'c', 'kacang', 'kucing', 'meong', 'z'}"
            ]
          },
          "metadata": {},
          "execution_count": 30
        }
      ]
    },
    {
      "cell_type": "code",
      "source": [
        "set_2.add('Kucing')\n",
        "set_2"
      ],
      "metadata": {
        "colab": {
          "base_uri": "https://localhost:8080/"
        },
        "id": "m_6btFesLrtT",
        "outputId": "c9b11c96-2944-4c77-89fb-e31d092fc267"
      },
      "execution_count": null,
      "outputs": [
        {
          "output_type": "execute_result",
          "data": {
            "text/plain": [
              "{1, 3.2, 5, 'A', 'Kucing', 'a', 'b', 'c', 'kacang', 'kucing', 'meong', 'z'}"
            ]
          },
          "metadata": {},
          "execution_count": 31
        }
      ]
    },
    {
      "cell_type": "code",
      "source": [
        "set_2.discard('A')\n",
        "set_2"
      ],
      "metadata": {
        "colab": {
          "base_uri": "https://localhost:8080/"
        },
        "id": "W28xmEXOLxhu",
        "outputId": "7638c1d9-2366-4e4e-e7c9-2eb9428afec6"
      },
      "execution_count": null,
      "outputs": [
        {
          "output_type": "execute_result",
          "data": {
            "text/plain": [
              "{1, 3.2, 5, 'Kucing', 'a', 'b', 'c', 'kacang', 'kucing', 'meong', 'z'}"
            ]
          },
          "metadata": {},
          "execution_count": 32
        }
      ]
    },
    {
      "cell_type": "code",
      "source": [
        "set_2.remove('b')\n",
        "set_2"
      ],
      "metadata": {
        "colab": {
          "base_uri": "https://localhost:8080/"
        },
        "id": "33OkJlVAMAtu",
        "outputId": "449d7e19-fb64-49a6-b4de-de228b7c8830"
      },
      "execution_count": null,
      "outputs": [
        {
          "output_type": "execute_result",
          "data": {
            "text/plain": [
              "{1, 3.2, 5, 'Kucing', 'a', 'c', 'kacang', 'kucing', 'meong', 'z'}"
            ]
          },
          "metadata": {},
          "execution_count": 33
        }
      ]
    },
    {
      "cell_type": "code",
      "source": [
        "set_2.append('B')\n",
        "set_2"
      ],
      "metadata": {
        "colab": {
          "base_uri": "https://localhost:8080/",
          "height": 184
        },
        "id": "0BDq1cIYMEZD",
        "outputId": "c0b9733d-a4d9-4ff3-f879-48c1ceb6744b"
      },
      "execution_count": null,
      "outputs": [
        {
          "output_type": "error",
          "ename": "AttributeError",
          "evalue": "ignored",
          "traceback": [
            "\u001b[0;31m---------------------------------------------------------------------------\u001b[0m",
            "\u001b[0;31mAttributeError\u001b[0m                            Traceback (most recent call last)",
            "\u001b[0;32m<ipython-input-34-1751fcc9c753>\u001b[0m in \u001b[0;36m<module>\u001b[0;34m\u001b[0m\n\u001b[0;32m----> 1\u001b[0;31m \u001b[0mset_2\u001b[0m\u001b[0;34m.\u001b[0m\u001b[0mappend\u001b[0m\u001b[0;34m(\u001b[0m\u001b[0;34m'B'\u001b[0m\u001b[0;34m)\u001b[0m\u001b[0;34m\u001b[0m\u001b[0;34m\u001b[0m\u001b[0m\n\u001b[0m\u001b[1;32m      2\u001b[0m \u001b[0mset_2\u001b[0m\u001b[0;34m\u001b[0m\u001b[0;34m\u001b[0m\u001b[0m\n",
            "\u001b[0;31mAttributeError\u001b[0m: 'set' object has no attribute 'append'"
          ]
        }
      ]
    },
    {
      "cell_type": "code",
      "source": [
        "set_A = {1,2,3,4}\n",
        "set_B = {3,4,5,6}"
      ],
      "metadata": {
        "id": "AmftW12sMJac"
      },
      "execution_count": null,
      "outputs": []
    },
    {
      "cell_type": "code",
      "source": [
        "print(set_A.union(set_B)) #AUB"
      ],
      "metadata": {
        "colab": {
          "base_uri": "https://localhost:8080/"
        },
        "id": "0KgkfY8ZMW-e",
        "outputId": "87989b65-d01e-4562-c30b-149302d2cfc6"
      },
      "execution_count": null,
      "outputs": [
        {
          "output_type": "stream",
          "name": "stdout",
          "text": [
            "{1, 2, 3, 4, 5, 6}\n"
          ]
        }
      ]
    },
    {
      "cell_type": "code",
      "source": [
        "print(set_A|set_B)"
      ],
      "metadata": {
        "colab": {
          "base_uri": "https://localhost:8080/"
        },
        "id": "kLuE6D4LNq_O",
        "outputId": "159a37b3-ad18-4d0b-85c0-151ae4472c71"
      },
      "execution_count": null,
      "outputs": [
        {
          "output_type": "stream",
          "name": "stdout",
          "text": [
            "{1, 2, 3, 4, 5, 6}\n"
          ]
        }
      ]
    },
    {
      "cell_type": "code",
      "source": [
        "print(set_A.intersection(set_B)) # A^B"
      ],
      "metadata": {
        "colab": {
          "base_uri": "https://localhost:8080/"
        },
        "id": "7yWpkjSxMiwR",
        "outputId": "fcdec24a-5bf9-49ba-ad61-682b79a3e36f"
      },
      "execution_count": null,
      "outputs": [
        {
          "output_type": "stream",
          "name": "stdout",
          "text": [
            "{3, 4}\n"
          ]
        }
      ]
    },
    {
      "cell_type": "code",
      "source": [
        "print(set_A & set_B)"
      ],
      "metadata": {
        "colab": {
          "base_uri": "https://localhost:8080/"
        },
        "id": "MolJNezfMqot",
        "outputId": "dbc0f812-4152-41d2-e7dd-a49261096742"
      },
      "execution_count": null,
      "outputs": [
        {
          "output_type": "stream",
          "name": "stdout",
          "text": [
            "{3, 4}\n"
          ]
        }
      ]
    },
    {
      "cell_type": "code",
      "source": [
        "print(set_A.difference(set_B)) # A-B"
      ],
      "metadata": {
        "colab": {
          "base_uri": "https://localhost:8080/"
        },
        "id": "AxtQPFjvNfG0",
        "outputId": "e00650b2-5781-438e-e7e9-17fea96902f1"
      },
      "execution_count": null,
      "outputs": [
        {
          "output_type": "stream",
          "name": "stdout",
          "text": [
            "{1, 2}\n"
          ]
        }
      ]
    },
    {
      "cell_type": "code",
      "source": [
        "print(set_A-set_B)"
      ],
      "metadata": {
        "colab": {
          "base_uri": "https://localhost:8080/"
        },
        "id": "rL9_M6-oNYoK",
        "outputId": "42fce99d-a253-4fe0-dceb-cb827e0148ba"
      },
      "execution_count": null,
      "outputs": [
        {
          "output_type": "stream",
          "name": "stdout",
          "text": [
            "{1, 2}\n"
          ]
        }
      ]
    },
    {
      "cell_type": "code",
      "source": [
        "print(set_A.symmetric_difference(set_B)) #AUB-A^B"
      ],
      "metadata": {
        "colab": {
          "base_uri": "https://localhost:8080/"
        },
        "id": "gH7MfA09Mwjb",
        "outputId": "75b5b62d-7692-4fee-91c4-3ba0c47ef059"
      },
      "execution_count": null,
      "outputs": [
        {
          "output_type": "stream",
          "name": "stdout",
          "text": [
            "{1, 2, 5, 6}\n"
          ]
        }
      ]
    },
    {
      "cell_type": "code",
      "source": [
        "print(set_A^set_B)"
      ],
      "metadata": {
        "colab": {
          "base_uri": "https://localhost:8080/"
        },
        "id": "i1FKEbgzNOxZ",
        "outputId": "3386f9fe-8048-47e5-8dc4-bedd125e049b"
      },
      "execution_count": null,
      "outputs": [
        {
          "output_type": "stream",
          "name": "stdout",
          "text": [
            "{1, 2, 5, 6}\n"
          ]
        }
      ]
    },
    {
      "cell_type": "code",
      "source": [],
      "metadata": {
        "id": "Ukd4_dq6NVWz"
      },
      "execution_count": null,
      "outputs": []
    },
    {
      "cell_type": "markdown",
      "source": [
        "## Dictionary"
      ],
      "metadata": {
        "id": "U7ofQhC-OSoW"
      }
    },
    {
      "cell_type": "markdown",
      "source": [
        "{Key_1:value_1,key_2:value_2,....}\n",
        "\n",
        "key -> string \n",
        "\n",
        "value -> bebas"
      ],
      "metadata": {
        "id": "Fi8tYbFhOWNR"
      }
    },
    {
      "cell_type": "code",
      "source": [
        "numbers = {'one':1, 'two':2, 'three':3}"
      ],
      "metadata": {
        "id": "Oyf-fLTJOVX3"
      },
      "execution_count": null,
      "outputs": []
    },
    {
      "cell_type": "code",
      "source": [
        "numbers['one']"
      ],
      "metadata": {
        "colab": {
          "base_uri": "https://localhost:8080/"
        },
        "id": "1xyuhYH5Of0S",
        "outputId": "2c7a7f75-6fc1-44c8-e389-28aa77fa36d1"
      },
      "execution_count": null,
      "outputs": [
        {
          "output_type": "execute_result",
          "data": {
            "text/plain": [
              "1"
            ]
          },
          "metadata": {},
          "execution_count": 51
        }
      ]
    },
    {
      "cell_type": "code",
      "source": [
        "numbers['two']"
      ],
      "metadata": {
        "colab": {
          "base_uri": "https://localhost:8080/"
        },
        "id": "y7onymSmPIZN",
        "outputId": "65e49e44-705f-41f5-cd32-358fa62ffb49"
      },
      "execution_count": null,
      "outputs": [
        {
          "output_type": "execute_result",
          "data": {
            "text/plain": [
              "2"
            ]
          },
          "metadata": {},
          "execution_count": 52
        }
      ]
    },
    {
      "cell_type": "code",
      "source": [
        "for k in numbers:\n",
        "    print(k, numbers[k]) "
      ],
      "metadata": {
        "colab": {
          "base_uri": "https://localhost:8080/"
        },
        "id": "DMUlU1z_PKp-",
        "outputId": "6031519e-8fbb-4e6d-98c9-537d387240a0"
      },
      "execution_count": null,
      "outputs": [
        {
          "output_type": "stream",
          "name": "stdout",
          "text": [
            "one 1\n",
            "two 2\n",
            "three 3\n"
          ]
        }
      ]
    },
    {
      "cell_type": "code",
      "source": [
        "numbers.values()"
      ],
      "metadata": {
        "colab": {
          "base_uri": "https://localhost:8080/"
        },
        "id": "z_24_CsZPYEk",
        "outputId": "029c2166-7eb8-47d6-ea05-b69bbaf33521"
      },
      "execution_count": null,
      "outputs": [
        {
          "output_type": "execute_result",
          "data": {
            "text/plain": [
              "dict_values([1, 2, 3])"
            ]
          },
          "metadata": {},
          "execution_count": 54
        }
      ]
    },
    {
      "cell_type": "code",
      "source": [
        "numbers.keys()"
      ],
      "metadata": {
        "colab": {
          "base_uri": "https://localhost:8080/"
        },
        "id": "nd7nkhPbPfjR",
        "outputId": "5c38a891-bf16-4984-9f34-b623d09cde74"
      },
      "execution_count": null,
      "outputs": [
        {
          "output_type": "execute_result",
          "data": {
            "text/plain": [
              "dict_keys(['one', 'two', 'three'])"
            ]
          },
          "metadata": {},
          "execution_count": 55
        }
      ]
    },
    {
      "cell_type": "code",
      "source": [
        "numbers['four']=4 #tambahkan data\n",
        "numbers"
      ],
      "metadata": {
        "colab": {
          "base_uri": "https://localhost:8080/"
        },
        "id": "BXxbz-hdPjFv",
        "outputId": "d3b75e93-66bd-4c35-a2e6-811c1e6a3a3e"
      },
      "execution_count": null,
      "outputs": [
        {
          "output_type": "execute_result",
          "data": {
            "text/plain": [
              "{'one': 1, 'two': 2, 'three': 3, 'four': 4}"
            ]
          },
          "metadata": {},
          "execution_count": 56
        }
      ]
    },
    {
      "cell_type": "code",
      "source": [
        "numbers['four']='empat' #edit data\n",
        "numbers"
      ],
      "metadata": {
        "colab": {
          "base_uri": "https://localhost:8080/"
        },
        "id": "MthJzlWcPwr5",
        "outputId": "d3b86aa3-1b62-4a35-8443-bae682d509c8"
      },
      "execution_count": null,
      "outputs": [
        {
          "output_type": "execute_result",
          "data": {
            "text/plain": [
              "{'one': 1, 'two': 2, 'three': 3, 'four': 'empat'}"
            ]
          },
          "metadata": {},
          "execution_count": 57
        }
      ]
    },
    {
      "cell_type": "code",
      "source": [
        "dict_ = {'five':5, 'six':6}\n",
        "numbers.update(dict_)\n",
        "numbers"
      ],
      "metadata": {
        "colab": {
          "base_uri": "https://localhost:8080/"
        },
        "id": "uJeULCIQP8sL",
        "outputId": "052d4d7e-217d-4e84-b1b0-c975404ababc"
      },
      "execution_count": null,
      "outputs": [
        {
          "output_type": "execute_result",
          "data": {
            "text/plain": [
              "{'one': 1, 'two': 2, 'three': 3, 'four': 'empat', 'five': 5, 'six': 6}"
            ]
          },
          "metadata": {},
          "execution_count": 59
        }
      ]
    },
    {
      "cell_type": "code",
      "source": [
        "numbers.pop('four')\n",
        "numbers"
      ],
      "metadata": {
        "colab": {
          "base_uri": "https://localhost:8080/"
        },
        "id": "pcunNUZLQkY8",
        "outputId": "8da32f6c-4294-4384-d42b-027726b55d66"
      },
      "execution_count": null,
      "outputs": [
        {
          "output_type": "execute_result",
          "data": {
            "text/plain": [
              "{'one': 1, 'two': 2, 'three': 3, 'five': 5, 'six': 6}"
            ]
          },
          "metadata": {},
          "execution_count": 60
        }
      ]
    },
    {
      "cell_type": "code",
      "source": [
        "del numbers['two']\n",
        "numbers"
      ],
      "metadata": {
        "colab": {
          "base_uri": "https://localhost:8080/"
        },
        "id": "CvQSEZXGQ_vx",
        "outputId": "5066844b-a1fd-4bf4-e5af-d21cb32a43b6"
      },
      "execution_count": null,
      "outputs": [
        {
          "output_type": "execute_result",
          "data": {
            "text/plain": [
              "{'one': 1, 'three': 3, 'five': 5, 'six': 6}"
            ]
          },
          "metadata": {},
          "execution_count": 61
        }
      ]
    },
    {
      "cell_type": "markdown",
      "source": [
        "### Latihan"
      ],
      "metadata": {
        "id": "YvwFEX4lRtd_"
      }
    },
    {
      "cell_type": "code",
      "source": [
        "a = ['1', '13b', 'aa1', 1.32, 22.1, 2.34]\n",
        "# lengkapi disini dengan slicing list\n",
        "# a[x:y] mulainya dari x sampai y-1.\n",
        "print(a[1:5])\n",
        "print(a[1:2])\n",
        "\n",
        "# Expected Output :\n",
        "# [ '13b', 'aa1', 1.32, 22.1 ]"
      ],
      "metadata": {
        "colab": {
          "base_uri": "https://localhost:8080/"
        },
        "id": "ECBvNgEgRHUK",
        "outputId": "4a0ab0da-951d-4f27-9d47-c74f245ae438"
      },
      "execution_count": null,
      "outputs": [
        {
          "output_type": "stream",
          "name": "stdout",
          "text": [
            "['13b', 'aa1', 1.32, 22.1]\n",
            "['13b']\n"
          ]
        }
      ]
    },
    {
      "cell_type": "code",
      "source": [
        "b = [\n",
        "    [5, 9, 8],\n",
        "    [0, 0, 6]\n",
        "    ]\n",
        "# lengkapi disini dengan subsetting list\n",
        "\n",
        "# Expected Output :\n",
        "\n",
        "# [0, 6]"
      ],
      "metadata": {
        "id": "JGp63HjxSIKu"
      },
      "execution_count": null,
      "outputs": []
    },
    {
      "cell_type": "code",
      "source": [
        "b[0]"
      ],
      "metadata": {
        "colab": {
          "base_uri": "https://localhost:8080/"
        },
        "id": "JssrmSMcS9uR",
        "outputId": "c235d858-f5cc-48b4-a8a4-c5ec72eab2ae"
      },
      "execution_count": null,
      "outputs": [
        {
          "output_type": "execute_result",
          "data": {
            "text/plain": [
              "[5, 9, 8]"
            ]
          },
          "metadata": {},
          "execution_count": 71
        }
      ]
    },
    {
      "cell_type": "code",
      "source": [
        "b[1]"
      ],
      "metadata": {
        "colab": {
          "base_uri": "https://localhost:8080/"
        },
        "id": "kSkDMQq3S-XW",
        "outputId": "c341256c-bf44-4eb7-bfa6-1f580814c73e"
      },
      "execution_count": null,
      "outputs": [
        {
          "output_type": "execute_result",
          "data": {
            "text/plain": [
              "[0, 0, 6]"
            ]
          },
          "metadata": {},
          "execution_count": 72
        }
      ]
    },
    {
      "cell_type": "code",
      "source": [
        "b[1][1:]"
      ],
      "metadata": {
        "colab": {
          "base_uri": "https://localhost:8080/"
        },
        "id": "Yn0CLSH9TCe5",
        "outputId": "542dba7a-9168-489c-f62c-ee1b06287469"
      },
      "execution_count": null,
      "outputs": [
        {
          "output_type": "execute_result",
          "data": {
            "text/plain": [
              "[0, 6]"
            ]
          },
          "metadata": {},
          "execution_count": 73
        }
      ]
    },
    {
      "cell_type": "code",
      "source": [
        "c = [\n",
        "    [5, 9, 8],\n",
        "    [0, 0, 6]\n",
        "    ]\n",
        "# lengkapi disini change list value\n",
        "\n",
        "c[0][2]=10\n",
        "c[1][0]=11\n",
        "print(c)\n",
        "\n",
        "\n",
        "# Expected Output :\n",
        "\n",
        "# [ [5, 9, 10], [11, 0, 6] ]"
      ],
      "metadata": {
        "colab": {
          "base_uri": "https://localhost:8080/"
        },
        "id": "wfYGiRcATUHH",
        "outputId": "1d9e86e2-f824-473c-836f-542e672d76e4"
      },
      "execution_count": null,
      "outputs": [
        {
          "output_type": "stream",
          "name": "stdout",
          "text": [
            "[[5, 9, 10], [11, 0, 6]]\n"
          ]
        }
      ]
    },
    {
      "cell_type": "code",
      "source": [
        "x = [1,2,3]"
      ],
      "metadata": {
        "id": "an-n9EreTnif"
      },
      "execution_count": null,
      "outputs": []
    },
    {
      "cell_type": "code",
      "source": [
        "x[0]='satu'\n",
        "x"
      ],
      "metadata": {
        "colab": {
          "base_uri": "https://localhost:8080/"
        },
        "id": "1MsjclqdTqFm",
        "outputId": "7f8960d9-369a-44e2-a1d2-955323d75467"
      },
      "execution_count": null,
      "outputs": [
        {
          "output_type": "execute_result",
          "data": {
            "text/plain": [
              "['satu', 2, 3]"
            ]
          },
          "metadata": {},
          "execution_count": 76
        }
      ]
    },
    {
      "cell_type": "code",
      "source": [
        "areas = [\"hallway\", 11.25, \"kitchen\", 18.0,\n",
        "        \"chill zone\", 20.0, \"bedroom\", 10.75,\n",
        "         \"bathroom\", 10.50, \"poolhouse\", 24.5,\n",
        "         \"garage\", 15.45]\n",
        "\n",
        "# Hilangkan elemen yang bernilai \"bathroom\" dan 10.50 \n",
        "# dalam satu statement code\n",
        "\n",
        "del areas[8:10]\n",
        "print(areas)\n",
        "\n",
        "# Expected Output:\n",
        "\n",
        "# ['hallway', 11.25, 'kitchen', 18.0, 'chill zone', 20.0, 'bedroom',\n",
        "#  10.75, 'poolhouse', 24.5, 'garage', 15.45]"
      ],
      "metadata": {
        "colab": {
          "base_uri": "https://localhost:8080/"
        },
        "id": "08C8PMHcTyA3",
        "outputId": "fd955207-fe08-4618-c4c0-64269119d964"
      },
      "execution_count": null,
      "outputs": [
        {
          "output_type": "stream",
          "name": "stdout",
          "text": [
            "['hallway', 11.25, 'kitchen', 18.0, 'chill zone', 20.0, 'bedroom', 10.75, 'poolhouse', 24.5, 'garage', 15.45]\n"
          ]
        }
      ]
    },
    {
      "cell_type": "code",
      "source": [
        "areas[0:9]"
      ],
      "metadata": {
        "colab": {
          "base_uri": "https://localhost:8080/"
        },
        "id": "FcOvlA76VqTE",
        "outputId": "8e2b0513-8c76-47bf-88fb-85ed9ba7fd80"
      },
      "execution_count": null,
      "outputs": [
        {
          "output_type": "execute_result",
          "data": {
            "text/plain": [
              "['hallway',\n",
              " 11.25,\n",
              " 'kitchen',\n",
              " 18.0,\n",
              " 'chill zone',\n",
              " 20.0,\n",
              " 'bedroom',\n",
              " 10.75,\n",
              " 'bathroom']"
            ]
          },
          "metadata": {},
          "execution_count": 80
        }
      ]
    },
    {
      "cell_type": "code",
      "source": [
        "x"
      ],
      "metadata": {
        "colab": {
          "base_uri": "https://localhost:8080/"
        },
        "id": "LhujMXkhUWDS",
        "outputId": "e37e9b6f-3002-4164-d9d2-a757f5cc5a27"
      },
      "execution_count": null,
      "outputs": [
        {
          "output_type": "execute_result",
          "data": {
            "text/plain": [
              "['satu', 2, 3]"
            ]
          },
          "metadata": {},
          "execution_count": 78
        }
      ]
    },
    {
      "cell_type": "code",
      "source": [
        "x.remove()"
      ],
      "metadata": {
        "id": "LqZQcsyHUWG8"
      },
      "execution_count": null,
      "outputs": []
    },
    {
      "cell_type": "code",
      "source": [
        "S = [0, 1, 4, 9, 16, 25, 36, 49, 64, 81]\n",
        "\n",
        "T = [i for i in S if i%2==0]\n",
        "\n",
        "print(T)\n",
        "\n",
        "# Expected Output:\n",
        "\n",
        "# [0, 4, 16, 36, 64]\n"
      ],
      "metadata": {
        "colab": {
          "base_uri": "https://localhost:8080/"
        },
        "id": "beVRlK6VXZ94",
        "outputId": "1732f8ac-23a8-401e-fba8-26a0529b04cf"
      },
      "execution_count": null,
      "outputs": [
        {
          "output_type": "stream",
          "name": "stdout",
          "text": [
            "[0, 4, 16, 36, 64]\n"
          ]
        }
      ]
    },
    {
      "cell_type": "code",
      "source": [
        "T = []\n",
        "for i in S:\n",
        "    if i%2==0:\n",
        "        T.append(i)\n",
        "T"
      ],
      "metadata": {
        "colab": {
          "base_uri": "https://localhost:8080/"
        },
        "id": "CaaUfYyNXomk",
        "outputId": "c8bc2e42-402a-47fb-a08e-8b77ec37fe72"
      },
      "execution_count": null,
      "outputs": [
        {
          "output_type": "execute_result",
          "data": {
            "text/plain": [
              "[0, 4, 16, 36, 64]"
            ]
          },
          "metadata": {},
          "execution_count": 84
        }
      ]
    },
    {
      "cell_type": "code",
      "source": [
        "T = [i for i in S if i%2==0]"
      ],
      "metadata": {
        "id": "9E3jC5hpYG74"
      },
      "execution_count": null,
      "outputs": []
    },
    {
      "cell_type": "code",
      "source": [
        "T"
      ],
      "metadata": {
        "colab": {
          "base_uri": "https://localhost:8080/"
        },
        "id": "76A-r98DYzfA",
        "outputId": "b9a0cce5-78ab-4c66-f48d-ce4cb09c35e3"
      },
      "execution_count": null,
      "outputs": [
        {
          "output_type": "execute_result",
          "data": {
            "text/plain": [
              "[0, 4, 16, 36, 64]"
            ]
          },
          "metadata": {},
          "execution_count": 87
        }
      ]
    },
    {
      "cell_type": "code",
      "source": [
        "tuple_1 = (1, 2, 6, 7, 8, 9, 10)\n",
        "\n",
        "#akses tuple\n",
        "\n",
        "tuple_1[2:5]\n",
        "\n",
        "# Expected Outpout:\n",
        "\n",
        "# (6, 7, 8)"
      ],
      "metadata": {
        "colab": {
          "base_uri": "https://localhost:8080/"
        },
        "id": "Yedtw1MlY0Jn",
        "outputId": "79fbbc99-4d9a-4af1-d917-137171ad3399"
      },
      "execution_count": null,
      "outputs": [
        {
          "output_type": "execute_result",
          "data": {
            "text/plain": [
              "(6, 7, 8)"
            ]
          },
          "metadata": {},
          "execution_count": 89
        }
      ]
    },
    {
      "cell_type": "code",
      "source": [
        "tuple_1[2:-2]"
      ],
      "metadata": {
        "colab": {
          "base_uri": "https://localhost:8080/"
        },
        "id": "1JaJ7IE8ZSc1",
        "outputId": "17a88896-b673-4ea1-b184-abdf21710818"
      },
      "execution_count": null,
      "outputs": [
        {
          "output_type": "execute_result",
          "data": {
            "text/plain": [
              "(6, 7, 8)"
            ]
          },
          "metadata": {},
          "execution_count": 91
        }
      ]
    },
    {
      "cell_type": "code",
      "source": [
        "europe = {'spain':'madrid', 'france':'paris', 'germany':'berlin', \n",
        "          'norway':'oslo' }\n",
        "\n",
        "# tambahkan key itali ke objek dictionary dengan value roma\n",
        "europe['itali']='roma'\n",
        "print(europe)\n",
        "# cek apakah itali ada di dalam objek dictionary\n",
        "if 'itali' in europe: \n",
        "    print(True)\n",
        "if 'roma' in europe:\n",
        "    print(True)\n",
        "else:\n",
        "    print(False)\n",
        "if 'roma' in europe.values():\n",
        "    print(True)\n",
        "else:\n",
        "    print(False)\n",
        "# Expected Output:\n",
        "    \n",
        "# True"
      ],
      "metadata": {
        "colab": {
          "base_uri": "https://localhost:8080/"
        },
        "id": "dYxAOwFKZdsv",
        "outputId": "57b13747-ae92-4e22-c906-f3cbadf9ffa3"
      },
      "execution_count": null,
      "outputs": [
        {
          "output_type": "stream",
          "name": "stdout",
          "text": [
            "{'spain': 'madrid', 'france': 'paris', 'germany': 'berlin', 'norway': 'oslo', 'itali': 'roma'}\n",
            "True\n",
            "False\n",
            "True\n"
          ]
        }
      ]
    },
    {
      "cell_type": "code",
      "source": [
        "europe = {'spain':'madrid', 'france':'paris', 'germany':'bonn',\n",
        "          'norway':'oslo', 'italy':'rome', 'poland':'warsaw',\n",
        "          'australia':'vienna'}\n",
        "\n",
        "# update nilai ibukota german ke berlin\n",
        "europe['germany']='berlin'\n",
        "\n",
        "# remove australia dari europa\n",
        "# del europe['australia'] \n",
        "europe.pop('australia')\n",
        "\n",
        "print(europe)\n",
        "\n",
        "# Expected Output:\n",
        "\n",
        "# {'spain': 'madrid', 'france': 'paris', 'germany': 'berlin', 'norway': 'oslo', \n",
        "#  'italy': 'rome', 'poland': 'warsaw'}"
      ],
      "metadata": {
        "colab": {
          "base_uri": "https://localhost:8080/"
        },
        "id": "U3x-M0jfao51",
        "outputId": "10373bc1-2ca3-4ded-a218-c06b36f66675"
      },
      "execution_count": null,
      "outputs": [
        {
          "output_type": "stream",
          "name": "stdout",
          "text": [
            "{'spain': 'madrid', 'france': 'paris', 'germany': 'berlin', 'norway': 'oslo', 'italy': 'rome', 'poland': 'warsaw'}\n"
          ]
        }
      ]
    },
    {
      "cell_type": "code",
      "source": [
        "country = { \n",
        "           'spain': { 'capital':'madrid', 'population':46.77 },\n",
        "           'france': { 'capital':'paris', 'population':66.03 },\n",
        "           'germany': { 'capital':'berlin', 'population':80.62 },\n",
        "           'norway': { 'capital':'oslo', 'population':5.084 } \n",
        "         }\n",
        "\n",
        "# berapa populasi dari kota german?\n",
        "print(country['germany']['population'])\n",
        "\n",
        "# update data baru, yaitu negara indonesia dengan capital \n",
        "# jakarta dan poulasi 250\n",
        "country['indonesia']={'capital':'jakarta', 'population':250}\n",
        "\n",
        "print(country)"
      ],
      "metadata": {
        "colab": {
          "base_uri": "https://localhost:8080/"
        },
        "id": "9TwsdkMcbn7q",
        "outputId": "ed4889d8-5797-4c9c-9f55-90d9a185bb21"
      },
      "execution_count": null,
      "outputs": [
        {
          "output_type": "stream",
          "name": "stdout",
          "text": [
            "80.62\n",
            "{'spain': {'capital': 'madrid', 'population': 46.77}, 'france': {'capital': 'paris', 'population': 66.03}, 'germany': {'capital': 'berlin', 'population': 80.62}, 'norway': {'capital': 'oslo', 'population': 5.084}, 'indonesia': {'capital': 'jakarta', 'population': 250}}\n"
          ]
        }
      ]
    },
    {
      "cell_type": "code",
      "source": [
        "country['indonesia']={'capital':'jakarta', 'population':250}\n",
        "country"
      ],
      "metadata": {
        "colab": {
          "base_uri": "https://localhost:8080/"
        },
        "id": "6UYyhZMLczwJ",
        "outputId": "690fbcf6-49b7-4369-8e95-bbed366c7c1a"
      },
      "execution_count": null,
      "outputs": [
        {
          "output_type": "execute_result",
          "data": {
            "text/plain": [
              "{'spain': {'capital': 'madrid', 'population': 46.77},\n",
              " 'france': {'capital': 'paris', 'population': 66.03},\n",
              " 'germany': {'capital': 'berlin', 'population': 80.62},\n",
              " 'norway': {'capital': 'oslo', 'population': 5.084},\n",
              " 'indonesia': {'capital': 'jakarta', 'population': 250}}"
            ]
          },
          "metadata": {},
          "execution_count": 105
        }
      ]
    },
    {
      "cell_type": "code",
      "source": [
        "print(country['indonesia']['population'])"
      ],
      "metadata": {
        "colab": {
          "base_uri": "https://localhost:8080/"
        },
        "id": "w3tioWQ9dt5n",
        "outputId": "b170fea5-099e-478e-c019-832531e642b0"
      },
      "execution_count": null,
      "outputs": [
        {
          "output_type": "stream",
          "name": "stdout",
          "text": [
            "250\n"
          ]
        }
      ]
    },
    {
      "cell_type": "code",
      "source": [
        "country['indonesia']['capital']='jakarta'\n",
        "country['indonesia']['population']=250\n",
        "country"
      ],
      "metadata": {
        "colab": {
          "base_uri": "https://localhost:8080/",
          "height": 201
        },
        "id": "34odsoBhd1IZ",
        "outputId": "c4bd509c-890b-4990-cb07-675f85a235d1"
      },
      "execution_count": null,
      "outputs": [
        {
          "output_type": "error",
          "ename": "KeyError",
          "evalue": "ignored",
          "traceback": [
            "\u001b[0;31m---------------------------------------------------------------------------\u001b[0m",
            "\u001b[0;31mKeyError\u001b[0m                                  Traceback (most recent call last)",
            "\u001b[0;32m<ipython-input-109-e948a15a695e>\u001b[0m in \u001b[0;36m<module>\u001b[0;34m\u001b[0m\n\u001b[0;32m----> 1\u001b[0;31m \u001b[0mcountry\u001b[0m\u001b[0;34m[\u001b[0m\u001b[0;34m'indonesia'\u001b[0m\u001b[0;34m]\u001b[0m\u001b[0;34m[\u001b[0m\u001b[0;34m'capital'\u001b[0m\u001b[0;34m]\u001b[0m\u001b[0;34m=\u001b[0m\u001b[0;34m'jakarta'\u001b[0m\u001b[0;34m\u001b[0m\u001b[0;34m\u001b[0m\u001b[0m\n\u001b[0m\u001b[1;32m      2\u001b[0m \u001b[0mcountry\u001b[0m\u001b[0;34m[\u001b[0m\u001b[0;34m'indonesia'\u001b[0m\u001b[0;34m]\u001b[0m\u001b[0;34m[\u001b[0m\u001b[0;34m'population'\u001b[0m\u001b[0;34m]\u001b[0m\u001b[0;34m=\u001b[0m\u001b[0;36m250\u001b[0m\u001b[0;34m\u001b[0m\u001b[0;34m\u001b[0m\u001b[0m\n\u001b[1;32m      3\u001b[0m \u001b[0mcountry\u001b[0m\u001b[0;34m\u001b[0m\u001b[0;34m\u001b[0m\u001b[0m\n",
            "\u001b[0;31mKeyError\u001b[0m: 'indonesia'"
          ]
        }
      ]
    },
    {
      "cell_type": "code",
      "source": [
        "country"
      ],
      "metadata": {
        "colab": {
          "base_uri": "https://localhost:8080/"
        },
        "id": "zi3YZty5eASF",
        "outputId": "12b7e35a-de76-4f64-e37b-1392bca1f647"
      },
      "execution_count": null,
      "outputs": [
        {
          "output_type": "execute_result",
          "data": {
            "text/plain": [
              "{'spain': {'capital': 'madrid', 'population': 46.77},\n",
              " 'france': {'capital': 'paris', 'population': 66.03},\n",
              " 'germany': {'capital': 'berlin', 'population': 80.62},\n",
              " 'norway': {'capital': 'oslo', 'population': 5.084}}"
            ]
          },
          "metadata": {},
          "execution_count": 110
        }
      ]
    },
    {
      "cell_type": "code",
      "source": [
        "Indo = {'indonesia':{'capital': 'jakarta', 'population': 250}}\n",
        "country.update(Indo)\n",
        "country"
      ],
      "metadata": {
        "colab": {
          "base_uri": "https://localhost:8080/"
        },
        "id": "Bf7nAMT-eYqd",
        "outputId": "19622ffd-8f45-4c51-e5c4-bad3c3822b58"
      },
      "execution_count": null,
      "outputs": [
        {
          "output_type": "execute_result",
          "data": {
            "text/plain": [
              "{'spain': {'capital': 'madrid', 'population': 46.77},\n",
              " 'france': {'capital': 'paris', 'population': 66.03},\n",
              " 'germany': {'capital': 'berlin', 'population': 80.62},\n",
              " 'norway': {'capital': 'oslo', 'population': 5.084},\n",
              " 'indonesia': {'capital': 'jakarta', 'population': 250}}"
            ]
          },
          "metadata": {},
          "execution_count": 111
        }
      ]
    },
    {
      "cell_type": "code",
      "source": [
        "# Hilangkan nilai duplikat dari sebuah objek list \n",
        "\n",
        "obj_list = [1, 2, 3, 4, 5, 5, 6, 7, 8, 9, 9, 10]\n",
        "set(obj_list)"
      ],
      "metadata": {
        "colab": {
          "base_uri": "https://localhost:8080/"
        },
        "id": "zh_eX3gfekzi",
        "outputId": "fa8b2c41-2a96-492b-f0f3-88ac84fbec77"
      },
      "execution_count": null,
      "outputs": [
        {
          "output_type": "execute_result",
          "data": {
            "text/plain": [
              "{1, 2, 3, 4, 5, 6, 7, 8, 9, 10}"
            ]
          },
          "metadata": {},
          "execution_count": 4
        }
      ]
    },
    {
      "cell_type": "code",
      "source": [
        "list(set(obj_list))"
      ],
      "metadata": {
        "colab": {
          "base_uri": "https://localhost:8080/"
        },
        "id": "UmBeEUMYe6rF",
        "outputId": "e6496ef2-833f-400e-e142-558dd47ff6c3"
      },
      "execution_count": null,
      "outputs": [
        {
          "output_type": "execute_result",
          "data": {
            "text/plain": [
              "[1, 2, 3, 4, 5, 6, 7, 8, 9, 10]"
            ]
          },
          "metadata": {},
          "execution_count": 5
        }
      ]
    },
    {
      "cell_type": "code",
      "source": [],
      "metadata": {
        "colab": {
          "base_uri": "https://localhost:8080/",
          "height": 167
        },
        "id": "YJGKuqNUfLtY",
        "outputId": "ffd4f035-3a07-42f0-b629-46ab258eb220"
      },
      "execution_count": null,
      "outputs": [
        {
          "output_type": "error",
          "ename": "TypeError",
          "evalue": "ignored",
          "traceback": [
            "\u001b[0;31m---------------------------------------------------------------------------\u001b[0m",
            "\u001b[0;31mTypeError\u001b[0m                                 Traceback (most recent call last)",
            "\u001b[0;32m<ipython-input-2-9e27c582d0be>\u001b[0m in \u001b[0;36m<module>\u001b[0;34m\u001b[0m\n\u001b[0;32m----> 1\u001b[0;31m \u001b[0mset\u001b[0m\u001b[0;34m(\u001b[0m\u001b[0;36m3\u001b[0m\u001b[0;34m,\u001b[0m\u001b[0;36m2\u001b[0m\u001b[0;34m,\u001b[0m\u001b[0;36m1\u001b[0m\u001b[0;34m)\u001b[0m\u001b[0;34m\u001b[0m\u001b[0;34m\u001b[0m\u001b[0m\n\u001b[0m",
            "\u001b[0;31mTypeError\u001b[0m: set expected at most 1 argument, got 3"
          ]
        }
      ]
    },
    {
      "cell_type": "markdown",
      "source": [
        "List -> ubah ke list pakai list(...) \n",
        "\n",
        "Tuple -> ubah ke tuple pakai tuple(...)\n",
        "\n",
        "Set ->  ubah ke set pakai set(...)\n",
        "\n",
        "Dict -> ubah ke dictionary pakai dict(...)"
      ],
      "metadata": {
        "id": "07tBytHPgbfI"
      }
    },
    {
      "cell_type": "code",
      "source": [
        "country"
      ],
      "metadata": {
        "colab": {
          "base_uri": "https://localhost:8080/"
        },
        "id": "1Lvttri5foQG",
        "outputId": "4267734f-1dff-4da9-b9e4-2d1fdfb7eb16"
      },
      "execution_count": null,
      "outputs": [
        {
          "output_type": "execute_result",
          "data": {
            "text/plain": [
              "{'spain': {'capital': 'madrid', 'population': 46.77},\n",
              " 'france': {'capital': 'paris', 'population': 66.03},\n",
              " 'germany': {'capital': 'berlin', 'population': 80.62},\n",
              " 'norway': {'capital': 'oslo', 'population': 5.084},\n",
              " 'indonesia': {'capital': 'jakarta', 'population': 250}}"
            ]
          },
          "metadata": {},
          "execution_count": 8
        }
      ]
    },
    {
      "cell_type": "code",
      "source": [
        "set(country)"
      ],
      "metadata": {
        "colab": {
          "base_uri": "https://localhost:8080/"
        },
        "id": "mo6YieDUg3wg",
        "outputId": "765d2152-4b38-465a-fe71-037da0bdfca8"
      },
      "execution_count": null,
      "outputs": [
        {
          "output_type": "execute_result",
          "data": {
            "text/plain": [
              "{'france', 'germany', 'indonesia', 'norway', 'spain'}"
            ]
          },
          "metadata": {},
          "execution_count": 9
        }
      ]
    },
    {
      "cell_type": "code",
      "source": [
        "list(country)"
      ],
      "metadata": {
        "colab": {
          "base_uri": "https://localhost:8080/"
        },
        "id": "mJiem8M-hCa8",
        "outputId": "ff959ed0-d1a3-4926-91b7-91e8ca966c03"
      },
      "execution_count": null,
      "outputs": [
        {
          "output_type": "execute_result",
          "data": {
            "text/plain": [
              "['spain', 'france', 'germany', 'norway', 'indonesia']"
            ]
          },
          "metadata": {},
          "execution_count": 10
        }
      ]
    },
    {
      "cell_type": "code",
      "source": [
        "tuple(country)"
      ],
      "metadata": {
        "colab": {
          "base_uri": "https://localhost:8080/"
        },
        "id": "t-hqlIg5hJ_s",
        "outputId": "ad8e8177-3027-46ef-92fc-ec00d74887d7"
      },
      "execution_count": null,
      "outputs": [
        {
          "output_type": "execute_result",
          "data": {
            "text/plain": [
              "('spain', 'france', 'germany', 'norway', 'indonesia')"
            ]
          },
          "metadata": {},
          "execution_count": 12
        }
      ]
    },
    {
      "cell_type": "code",
      "source": [
        "S"
      ],
      "metadata": {
        "colab": {
          "base_uri": "https://localhost:8080/"
        },
        "id": "CkF98_y5hMrR",
        "outputId": "985376ce-fc95-492d-838f-c0aedcc45e69"
      },
      "execution_count": null,
      "outputs": [
        {
          "output_type": "execute_result",
          "data": {
            "text/plain": [
              "[0, 1, 4, 9, 16, 25, 36, 49, 64, 81]"
            ]
          },
          "metadata": {},
          "execution_count": 14
        }
      ]
    },
    {
      "cell_type": "code",
      "source": [
        "tuple(S)"
      ],
      "metadata": {
        "colab": {
          "base_uri": "https://localhost:8080/"
        },
        "id": "dDTbtLp1hd2B",
        "outputId": "ea28c73f-1bdf-4cf8-d613-306e833ec75f"
      },
      "execution_count": null,
      "outputs": [
        {
          "output_type": "execute_result",
          "data": {
            "text/plain": [
              "(0, 1, 4, 9, 16, 25, 36, 49, 64, 81)"
            ]
          },
          "metadata": {},
          "execution_count": 15
        }
      ]
    },
    {
      "cell_type": "code",
      "source": [
        "set(S)"
      ],
      "metadata": {
        "colab": {
          "base_uri": "https://localhost:8080/"
        },
        "id": "Ms7VErI2hfGT",
        "outputId": "a0798a61-93f8-48c7-e46e-41787292e47e"
      },
      "execution_count": null,
      "outputs": [
        {
          "output_type": "execute_result",
          "data": {
            "text/plain": [
              "{0, 1, 4, 9, 16, 25, 36, 49, 64, 81}"
            ]
          },
          "metadata": {},
          "execution_count": 16
        }
      ]
    },
    {
      "cell_type": "code",
      "source": [
        "dict(S)"
      ],
      "metadata": {
        "colab": {
          "base_uri": "https://localhost:8080/",
          "height": 167
        },
        "id": "HN3lC0ibhguw",
        "outputId": "63c687a4-37fe-490a-c105-7e584ee42f77"
      },
      "execution_count": null,
      "outputs": [
        {
          "output_type": "error",
          "ename": "TypeError",
          "evalue": "ignored",
          "traceback": [
            "\u001b[0;31m---------------------------------------------------------------------------\u001b[0m",
            "\u001b[0;31mTypeError\u001b[0m                                 Traceback (most recent call last)",
            "\u001b[0;32m<ipython-input-17-73780f980d3b>\u001b[0m in \u001b[0;36m<module>\u001b[0;34m\u001b[0m\n\u001b[0;32m----> 1\u001b[0;31m \u001b[0mdict\u001b[0m\u001b[0;34m(\u001b[0m\u001b[0mS\u001b[0m\u001b[0;34m)\u001b[0m\u001b[0;34m\u001b[0m\u001b[0;34m\u001b[0m\u001b[0m\n\u001b[0m",
            "\u001b[0;31mTypeError\u001b[0m: cannot convert dictionary update sequence element #0 to a sequence"
          ]
        }
      ]
    },
    {
      "cell_type": "code",
      "source": [
        "tupel = tuple(S)\n",
        "tupel"
      ],
      "metadata": {
        "colab": {
          "base_uri": "https://localhost:8080/"
        },
        "id": "zlxgpQdehijc",
        "outputId": "fcbb3335-f919-4d00-e0d4-6d6fa8b51ace"
      },
      "execution_count": null,
      "outputs": [
        {
          "output_type": "execute_result",
          "data": {
            "text/plain": [
              "(0, 1, 4, 9, 16, 25, 36, 49, 64, 81)"
            ]
          },
          "metadata": {},
          "execution_count": 19
        }
      ]
    },
    {
      "cell_type": "code",
      "source": [
        "set(tupel)"
      ],
      "metadata": {
        "colab": {
          "base_uri": "https://localhost:8080/"
        },
        "id": "rBRE4fUNhsG_",
        "outputId": "845c7295-158e-42ee-b688-ade69d0fa427"
      },
      "execution_count": null,
      "outputs": [
        {
          "output_type": "execute_result",
          "data": {
            "text/plain": [
              "{0, 1, 4, 9, 16, 25, 36, 49, 64, 81}"
            ]
          },
          "metadata": {},
          "execution_count": 20
        }
      ]
    },
    {
      "cell_type": "code",
      "source": [
        "list(tupel)"
      ],
      "metadata": {
        "colab": {
          "base_uri": "https://localhost:8080/"
        },
        "id": "vlEQ8N5lhvGn",
        "outputId": "f6cd45e2-1e31-45c4-d577-a2a83d2cc631"
      },
      "execution_count": null,
      "outputs": [
        {
          "output_type": "execute_result",
          "data": {
            "text/plain": [
              "[0, 1, 4, 9, 16, 25, 36, 49, 64, 81]"
            ]
          },
          "metadata": {},
          "execution_count": 21
        }
      ]
    },
    {
      "cell_type": "code",
      "source": [
        "dict(tupel)"
      ],
      "metadata": {
        "colab": {
          "base_uri": "https://localhost:8080/",
          "height": 167
        },
        "id": "IIB4kmH3hweG",
        "outputId": "f0c02376-1edb-4571-ccf9-83739806d774"
      },
      "execution_count": null,
      "outputs": [
        {
          "output_type": "error",
          "ename": "TypeError",
          "evalue": "ignored",
          "traceback": [
            "\u001b[0;31m---------------------------------------------------------------------------\u001b[0m",
            "\u001b[0;31mTypeError\u001b[0m                                 Traceback (most recent call last)",
            "\u001b[0;32m<ipython-input-22-af20347ee146>\u001b[0m in \u001b[0;36m<module>\u001b[0;34m\u001b[0m\n\u001b[0;32m----> 1\u001b[0;31m \u001b[0mdict\u001b[0m\u001b[0;34m(\u001b[0m\u001b[0mtupel\u001b[0m\u001b[0;34m)\u001b[0m\u001b[0;34m\u001b[0m\u001b[0;34m\u001b[0m\u001b[0m\n\u001b[0m",
            "\u001b[0;31mTypeError\u001b[0m: cannot convert dictionary update sequence element #0 to a sequence"
          ]
        }
      ]
    },
    {
      "cell_type": "code",
      "source": [
        "X = set(tupel)\n",
        "X"
      ],
      "metadata": {
        "colab": {
          "base_uri": "https://localhost:8080/"
        },
        "id": "pfSGp4lhhyAi",
        "outputId": "25736366-52a0-4c4c-adad-1fd4ff48db79"
      },
      "execution_count": null,
      "outputs": [
        {
          "output_type": "execute_result",
          "data": {
            "text/plain": [
              "{0, 1, 4, 9, 16, 25, 36, 49, 64, 81}"
            ]
          },
          "metadata": {},
          "execution_count": 23
        }
      ]
    },
    {
      "cell_type": "code",
      "source": [
        "list(X)"
      ],
      "metadata": {
        "id": "TdlSEvCEh1KS",
        "outputId": "7a56f256-7e06-4878-9a15-5f6afe4493a5",
        "colab": {
          "base_uri": "https://localhost:8080/"
        }
      },
      "execution_count": null,
      "outputs": [
        {
          "output_type": "execute_result",
          "data": {
            "text/plain": [
              "[0, 1, 64, 4, 36, 9, 16, 49, 81, 25]"
            ]
          },
          "metadata": {},
          "execution_count": 24
        }
      ]
    },
    {
      "cell_type": "code",
      "source": [
        "tuple(X)"
      ],
      "metadata": {
        "id": "MeoN4iP5h272",
        "outputId": "d4464cfa-d368-42a9-9add-8e63d33a9c59",
        "colab": {
          "base_uri": "https://localhost:8080/"
        }
      },
      "execution_count": null,
      "outputs": [
        {
          "output_type": "execute_result",
          "data": {
            "text/plain": [
              "(0, 1, 64, 4, 36, 9, 16, 49, 81, 25)"
            ]
          },
          "metadata": {},
          "execution_count": 25
        }
      ]
    },
    {
      "cell_type": "code",
      "source": [
        "dict(X)"
      ],
      "metadata": {
        "id": "dEr9X5NOh4u7",
        "outputId": "1fd31659-c96a-41cd-a020-08ffe3621ff5",
        "colab": {
          "base_uri": "https://localhost:8080/",
          "height": 167
        }
      },
      "execution_count": null,
      "outputs": [
        {
          "output_type": "error",
          "ename": "TypeError",
          "evalue": "ignored",
          "traceback": [
            "\u001b[0;31m---------------------------------------------------------------------------\u001b[0m",
            "\u001b[0;31mTypeError\u001b[0m                                 Traceback (most recent call last)",
            "\u001b[0;32m<ipython-input-26-4c4b760d10f8>\u001b[0m in \u001b[0;36m<module>\u001b[0;34m\u001b[0m\n\u001b[0;32m----> 1\u001b[0;31m \u001b[0mdict\u001b[0m\u001b[0;34m(\u001b[0m\u001b[0mX\u001b[0m\u001b[0;34m)\u001b[0m\u001b[0;34m\u001b[0m\u001b[0;34m\u001b[0m\u001b[0m\n\u001b[0m",
            "\u001b[0;31mTypeError\u001b[0m: cannot convert dictionary update sequence element #0 to a sequence"
          ]
        }
      ]
    },
    {
      "cell_type": "code",
      "source": [
        "if True or False and True:\n",
        "    print(True)\n",
        "else:\n",
        "    print(False)"
      ],
      "metadata": {
        "colab": {
          "base_uri": "https://localhost:8080/"
        },
        "id": "2-sVqs6--InR",
        "outputId": "457d7ff3-b6be-4be6-ca60-23929ad98011"
      },
      "execution_count": null,
      "outputs": [
        {
          "output_type": "stream",
          "name": "stdout",
          "text": [
            "True\n"
          ]
        }
      ]
    },
    {
      "cell_type": "code",
      "source": [
        "list([1,2,3,4])"
      ],
      "metadata": {
        "colab": {
          "base_uri": "https://localhost:8080/"
        },
        "id": "hbCJDmwSbvox",
        "outputId": "65ce292f-b0ac-4df5-af7e-24fae6fe1657"
      },
      "execution_count": null,
      "outputs": [
        {
          "output_type": "execute_result",
          "data": {
            "text/plain": [
              "[1, 2, 3, 4]"
            ]
          },
          "metadata": {},
          "execution_count": 7
        }
      ]
    },
    {
      "cell_type": "code",
      "source": [],
      "metadata": {
        "id": "WT-RZVF269RH"
      },
      "execution_count": null,
      "outputs": []
    }
  ]
}